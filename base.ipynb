{
 "cells": [
  {
   "cell_type": "code",
   "execution_count": 1,
   "metadata": {},
   "outputs": [
    {
     "name": "stdout",
     "output_type": "stream",
     "text": [
      "Hi Pegawai\n"
     ]
    }
   ],
   "source": [
    "class Pegawai:\n",
    "  def __init__(self):\n",
    "    print(\"Hi Pegawai\")\n",
    "\n",
    "pegawai = Pegawai()"
   ]
  },
  {
   "cell_type": "code",
   "execution_count": 3,
   "metadata": {},
   "outputs": [
    {
     "name": "stdout",
     "output_type": "stream",
     "text": [
      "halo faqih\n"
     ]
    }
   ],
   "source": [
    "# 1 parameter \n",
    "class Pegawai:\n",
    "  def __init__(self, nama):\n",
    "    self.nama = nama\n",
    "\n",
    "  def tampil(self):\n",
    "    print(f'halo {self.nama}')\n",
    "\n",
    "pegawai = Pegawai('faqih')\n",
    "pegawai.tampil()"
   ]
  },
  {
   "cell_type": "code",
   "execution_count": 6,
   "metadata": {},
   "outputs": [
    {
     "name": "stdout",
     "output_type": "stream",
     "text": [
      "halo faqih gaji anda adalah 10000000\n"
     ]
    }
   ],
   "source": [
    "class Pegawai:\n",
    "  def __init__(self, nama, gaji):\n",
    "    self.nama = nama\n",
    "    self.gaji = gaji\n",
    "\n",
    "  def tampil(self):\n",
    "    print(f'halo {self.nama} gaji anda adalah {self.gaji}')\n",
    "\n",
    "pegawai = Pegawai('faqih', 10000000)\n",
    "pegawai.tampil()"
   ]
  },
  {
   "cell_type": "code",
   "execution_count": 8,
   "metadata": {},
   "outputs": [
    {
     "name": "stdout",
     "output_type": "stream",
     "text": [
      "Halo Budi, gaji Anda adalah 5000000, jabatan Anda adalah Manajer, dan Anda bekerja di departemen Pemasaran.\n"
     ]
    }
   ],
   "source": [
    "# tambahkan parameter lainnya \n",
    "class Pegawai:\n",
    "    def __init__(self, nama, gaji, jabatan, departemen):\n",
    "        self.nama = nama\n",
    "        self.gaji = gaji\n",
    "        self.jabatan = jabatan\n",
    "        self.departemen = departemen\n",
    "\n",
    "    def tampil(self):\n",
    "        print(f'Halo {self.nama}, gaji Anda adalah {self.gaji}, jabatan Anda adalah {self.jabatan}, dan Anda bekerja di departemen {self.departemen}.')\n",
    "\n",
    "pegawai1 = Pegawai(\"Budi\", 5000000, \"Manajer\", \"Pemasaran\")\n",
    "pegawai1.tampil()"
   ]
  },
  {
   "cell_type": "code",
   "execution_count": 9,
   "metadata": {},
   "outputs": [
    {
     "name": "stdout",
     "output_type": "stream",
     "text": [
      "Halo Budi, gaji Anda adalah 5000000, jabatan Anda adalah Manajer, dan Anda bekerja di departemen Pemasaran.\n",
      "Gaji Budi naik menjadi 5500000.0.\n",
      "Jabatan Budi berubah menjadi Direktur.\n",
      "Halo Budi, gaji Anda adalah 5500000.0, jabatan Anda adalah Direktur, dan Anda bekerja di departemen Pemasaran.\n"
     ]
    }
   ],
   "source": [
    "class Pegawai:\n",
    "    def __init__(self, nama, gaji, jabatan, departemen):\n",
    "        self.nama = nama\n",
    "        self.gaji = gaji\n",
    "        self.jabatan = jabatan\n",
    "        self.departemen = departemen\n",
    "\n",
    "    def tampil(self):\n",
    "        print(f'Halo {self.nama}, gaji Anda adalah {self.gaji}, jabatan Anda adalah {self.jabatan}, dan Anda bekerja di departemen {self.departemen}.')\n",
    "\n",
    "    def naikkan_gaji(self, persentase):\n",
    "        self.gaji += self.gaji * (persentase / 100)\n",
    "        print(f'Gaji {self.nama} naik menjadi {self.gaji}.')\n",
    "\n",
    "    def ubah_jabatan(self, jabatan_baru):\n",
    "        self.jabatan = jabatan_baru\n",
    "        print(f'Jabatan {self.nama} berubah menjadi {self.jabatan}.')\n",
    "\n",
    "# Membuat objek dari kelas Pegawai\n",
    "pegawai1 = Pegawai(\"Budi\", 5000000, \"Manajer\", \"Pemasaran\")\n",
    "\n",
    "# Menggunakan metode dari objek\n",
    "pegawai1.tampil()  # Output: Halo Budi, gaji Anda adalah 5000000, jabatan Anda adalah Manajer, dan Anda bekerja di departemen Pemasaran.\n",
    "\n",
    "# Menaikkan gaji pegawai\n",
    "pegawai1.naikkan_gaji(10)  # Output: Gaji Budi naik menjadi 5500000.\n",
    "\n",
    "# Mengubah jabatan pegawai\n",
    "pegawai1.ubah_jabatan(\"Direktur\")  # Output: Jabatan Budi berubah menjadi Direktur.\n",
    "\n",
    "pegawai1.tampil()  # Output: Halo Budi, gaji Anda adalah 5500000, jabatan Anda adalah Direktur, dan Anda bekerja di departemen Pemasaran.\n"
   ]
  },
  {
   "cell_type": "code",
   "execution_count": 10,
   "metadata": {},
   "outputs": [
    {
     "data": {
      "text/plain": [
       "'Budi'"
      ]
     },
     "execution_count": 10,
     "metadata": {},
     "output_type": "execute_result"
    }
   ],
   "source": [
    "pegawai1.nama"
   ]
  },
  {
   "cell_type": "code",
   "execution_count": 11,
   "metadata": {},
   "outputs": [
    {
     "data": {
      "text/plain": [
       "5500000.0"
      ]
     },
     "execution_count": 11,
     "metadata": {},
     "output_type": "execute_result"
    }
   ],
   "source": [
    "pegawai1.gaji"
   ]
  },
  {
   "cell_type": "code",
   "execution_count": 13,
   "metadata": {},
   "outputs": [],
   "source": [
    "class Pegawai:\n",
    "    def __init__(self, nama, gaji, jabatan, departemen):\n",
    "        self.__nama = nama\n",
    "        self.__gaji = gaji\n",
    "        self.__jabatan = jabatan\n",
    "        self.__departemen = departemen\n",
    "\n",
    "    def tampil(self):\n",
    "        print(f'Halo {self.__nama}, gaji Anda adalah {self.__gaji}, jabatan Anda adalah {self.__jabatan}, dan Anda bekerja di departemen {self.__departemen}.')\n",
    "\n",
    "    def naikkan_gaji(self, persentase):\n",
    "        self.__gaji += self.__gaji * (persentase / 100)\n",
    "        print(f'Gaji {self.__nama} naik menjadi {self.__gaji}.')\n",
    "\n",
    "    def ubah_jabatan(self, jabatan_baru):\n",
    "        self.__jabatan = jabatan_baru\n",
    "        print(f'Jabatan {self.__nama} berubah menjadi {self.__jabatan}.')\n",
    "\n",
    "    # Getter untuk nama\n",
    "    def get_nama(self):\n",
    "        return self.__nama\n",
    "\n",
    "    # Getter untuk gaji\n",
    "    def get_gaji(self):\n",
    "        return self.__gaji\n",
    "\n",
    "    # Getter untuk departemen\n",
    "    def get_departemen(self):\n",
    "        return self.__departemen\n",
    "\n",
    "pegawai2 = Pegawai(\"Toni\", 5000000, \"Asisten Manajer\", \"Pemasaran\")"
   ]
  },
  {
   "cell_type": "code",
   "execution_count": 14,
   "metadata": {},
   "outputs": [
    {
     "name": "stdout",
     "output_type": "stream",
     "text": [
      "Halo Toni, gaji Anda adalah 5000000, jabatan Anda adalah Asisten Manajer, dan Anda bekerja di departemen Pemasaran.\n"
     ]
    }
   ],
   "source": [
    "pegawai2.tampil()"
   ]
  },
  {
   "cell_type": "code",
   "execution_count": 17,
   "metadata": {},
   "outputs": [
    {
     "ename": "AttributeError",
     "evalue": "'Pegawai' object has no attribute '__gaji'",
     "output_type": "error",
     "traceback": [
      "\u001b[1;31m---------------------------------------------------------------------------\u001b[0m",
      "\u001b[1;31mAttributeError\u001b[0m                            Traceback (most recent call last)",
      "Cell \u001b[1;32mIn[17], line 1\u001b[0m\n\u001b[1;32m----> 1\u001b[0m pegawai2\u001b[38;5;241m.\u001b[39m__gaji\n",
      "\u001b[1;31mAttributeError\u001b[0m: 'Pegawai' object has no attribute '__gaji'"
     ]
    }
   ],
   "source": [
    "pegawai2.__gaji"
   ]
  },
  {
   "cell_type": "code",
   "execution_count": 18,
   "metadata": {},
   "outputs": [
    {
     "data": {
      "text/plain": [
       "5000000"
      ]
     },
     "execution_count": 18,
     "metadata": {},
     "output_type": "execute_result"
    }
   ],
   "source": [
    "pegawai2.get_gaji()"
   ]
  },
  {
   "cell_type": "markdown",
   "metadata": {},
   "source": [
    "### Inheritance\n",
    "Berikut adalah pengembangan lebih lanjut dari kelas Pegawai dengan menggunakan konsep inheritance (pewarisan). Kita akan membuat kelas turunan Manajer dan Staf yang mewarisi dari kelas Pegawai."
   ]
  },
  {
   "cell_type": "code",
   "execution_count": 19,
   "metadata": {},
   "outputs": [],
   "source": [
    "class Pegawai:\n",
    "    def __init__(self, nama, gaji, jabatan, departemen):\n",
    "        self.__nama = nama\n",
    "        self.__gaji = gaji\n",
    "        self.__jabatan = jabatan\n",
    "        self.__departemen = departemen\n",
    "\n",
    "    def tampil(self):\n",
    "        print(f'Halo {self.__nama}, gaji Anda adalah {self.__gaji}, jabatan Anda adalah {self.__jabatan}, dan Anda bekerja di departemen {self.__departemen}.')\n",
    "\n",
    "    def naikkan_gaji(self, persentase):\n",
    "        self.__gaji += self.__gaji * (persentase / 100)\n",
    "        print(f'Gaji {self.__nama} naik menjadi {self.__gaji}.')\n",
    "\n",
    "    def ubah_jabatan(self, jabatan_baru):\n",
    "        self.__jabatan = jabatan_baru\n",
    "        print(f'Jabatan {self.__nama} berubah menjadi {self.__jabatan}.')\n",
    "\n",
    "    # Getter untuk nama\n",
    "    def get_nama(self):\n",
    "        return self.__nama\n",
    "\n",
    "    # Setter untuk nama\n",
    "    def set_nama(self, nama_baru):\n",
    "        self.__nama = nama_baru\n",
    "\n",
    "    # Getter untuk gaji\n",
    "    def get_gaji(self):\n",
    "        return self.__gaji\n",
    "\n",
    "    # Setter untuk gaji\n",
    "    def set_gaji(self, gaji_baru):\n",
    "        self.__gaji = gaji_baru\n",
    "\n",
    "    # Getter untuk jabatan\n",
    "    def get_jabatan(self):\n",
    "        return self.__jabatan\n",
    "\n",
    "    # Setter untuk jabatan\n",
    "    def set_jabatan(self, jabatan_baru):\n",
    "        self.__jabatan = jabatan_baru\n",
    "\n",
    "    # Getter untuk departemen\n",
    "    def get_departemen(self):\n",
    "        return self.__departemen\n",
    "\n",
    "    # Setter untuk departemen\n",
    "    def set_departemen(self, departemen_baru):\n",
    "        self.__departemen = departemen_baru\n"
   ]
  },
  {
   "cell_type": "code",
   "execution_count": 20,
   "metadata": {},
   "outputs": [],
   "source": [
    "class Manajer(Pegawai):\n",
    "    def __init__(self, nama, gaji, jabatan, departemen, jumlah_bawahan):\n",
    "        super().__init__(nama, gaji, jabatan, departemen)\n",
    "        self.__jumlah_bawahan = jumlah_bawahan\n",
    "\n",
    "    def tampil(self):\n",
    "        super().tampil()\n",
    "        print(f'Anda memiliki {self.__jumlah_bawahan} bawahan.')\n",
    "\n",
    "    # Getter untuk jumlah bawahan\n",
    "    def get_jumlah_bawahan(self):\n",
    "        return self.__jumlah_bawahan\n",
    "\n",
    "    # Setter untuk jumlah bawahan\n",
    "    def set_jumlah_bawahan(self, jumlah_bawahan_baru):\n",
    "        self.__jumlah_bawahan = jumlah_bawahan_baru\n"
   ]
  },
  {
   "cell_type": "code",
   "execution_count": 21,
   "metadata": {},
   "outputs": [],
   "source": [
    "class Staf(Pegawai):\n",
    "    def __init__(self, nama, gaji, jabatan, departemen, shift):\n",
    "        super().__init__(nama, gaji, jabatan, departemen)\n",
    "        self.__shift = shift\n",
    "\n",
    "    def tampil(self):\n",
    "        super().tampil()\n",
    "        print(f'Shift Anda adalah {self.__shift}.')\n",
    "\n",
    "    # Getter untuk shift\n",
    "    def get_shift(self):\n",
    "        return self.__shift\n",
    "\n",
    "    # Setter untuk shift\n",
    "    def set_shift(self, shift_baru):\n",
    "        self.__shift = shift_baru\n"
   ]
  },
  {
   "cell_type": "code",
   "execution_count": 22,
   "metadata": {},
   "outputs": [
    {
     "name": "stdout",
     "output_type": "stream",
     "text": [
      "Halo Budi, gaji Anda adalah 10000000, jabatan Anda adalah Manajer Senior, dan Anda bekerja di departemen Pemasaran.\n",
      "Anda memiliki 5 bawahan.\n",
      "Gaji Budi naik menjadi 11000000.0.\n",
      "6\n",
      "Halo Andi, gaji Anda adalah 5000000, jabatan Anda adalah Staff Junior, dan Anda bekerja di departemen Keuangan.\n",
      "Shift Anda adalah Malam.\n",
      "Pagi\n"
     ]
    }
   ],
   "source": [
    "# Membuat objek dari kelas Manajer\n",
    "manajer1 = Manajer(\"Budi\", 10000000, \"Manajer Senior\", \"Pemasaran\", 5)\n",
    "manajer1.tampil()\n",
    "# Output: Halo Budi, gaji Anda adalah 10000000, jabatan Anda adalah Manajer Senior, dan Anda bekerja di departemen Pemasaran.\n",
    "# Anda memiliki 5 bawahan.\n",
    "\n",
    "# Menaikkan gaji manajer\n",
    "manajer1.naikkan_gaji(10)\n",
    "# Output: Gaji Budi naik menjadi 11000000.\n",
    "\n",
    "# Mengubah jumlah bawahan manajer\n",
    "manajer1.set_jumlah_bawahan(6)\n",
    "print(manajer1.get_jumlah_bawahan())\n",
    "# Output: 6\n",
    "\n",
    "# Membuat objek dari kelas Staf\n",
    "staf1 = Staf(\"Andi\", 5000000, \"Staff Junior\", \"Keuangan\", \"Malam\")\n",
    "staf1.tampil()\n",
    "# Output: Halo Andi, gaji Anda adalah 5000000, jabatan Anda adalah Staff Junior, dan Anda bekerja di departemen Keuangan.\n",
    "# Shift Anda adalah Malam.\n",
    "\n",
    "# Mengubah shift staf\n",
    "staf1.set_shift(\"Pagi\")\n",
    "print(staf1.get_shift())\n",
    "# Output: Pagi\n"
   ]
  },
  {
   "cell_type": "markdown",
   "metadata": {},
   "source": [
    "### Lab \n",
    "Buat program untuk dua transaksi\n",
    "\n",
    "1. top up saldo\n",
    "2. belaja\n",
    "\n",
    "\n",
    "- jika 1 transaksi sudah dijalankan tanyakan kembali apakah ingin melakukan transaksi lagi atau selesai\n",
    "- Jika ingin melakukan transaksi kembali ke pilihan top-up atau belanja\n",
    "- aturan sederhana belanja:\n",
    "- saldo = input user\n",
    "\n",
    "- harga sikat gigi @1000; harga sabun @800; harga sampoo @1500\n",
    "\n",
    "- pengeluaran dengan input user\n",
    "\n",
    "item sikat gigi = n item\n",
    "item sabun = n item\n",
    "sampoo = n item\n",
    "Tambahkan Kondisi\n",
    "\n",
    "- Ada PPN dari pengeluaran.. Jika member PPN 5%, jika tidak member PPN 10%\n",
    "- Jika saldo tidak cukup maka beri notif saldo anda <> sedangkan belanja anda adalah <>\n",
    "output jika saldo cukup\n",
    "\n",
    "print(total belanja)\n",
    "print(ppn)\n",
    "print(total_belanja_dengan_ppn)\n",
    "print(sisa)"
   ]
  },
  {
   "cell_type": "code",
   "execution_count": 24,
   "metadata": {},
   "outputs": [
    {
     "name": "stdout",
     "output_type": "stream",
     "text": [
      "\n",
      "--- Transaksi User 1 ---\n",
      "\n",
      "faqih, pilih transaksi:\n",
      "1. Top-up Saldo\n",
      "2. Belanja\n",
      "3. Keluar\n",
      "Total belanja: 13700\n",
      "PPN: 685.0\n",
      "Total belanja dengan PPN: 14385.0\n",
      "Sisa saldo: 185615.0\n",
      "Terima kasih, faqih! Transaksi selesai.\n",
      "\n",
      "--- Transaksi User 2 ---\n",
      "\n",
      "daniela, pilih transaksi:\n",
      "1. Top-up Saldo\n",
      "2. Belanja\n",
      "3. Keluar\n",
      "Total belanja: 24800\n",
      "PPN: 2480.0\n",
      "Total belanja dengan PPN: 27280.0\n",
      "Sisa saldo: 9972720.0\n",
      "Terima kasih, daniela! Transaksi selesai.\n",
      "Terima kasih! Transaksi selesai untuk kedua user.\n"
     ]
    }
   ],
   "source": [
    "class User:\n",
    "    def __init__(self, nama, saldo_awal, is_member):\n",
    "        self.nama = nama\n",
    "        self.saldo = saldo_awal\n",
    "        self.is_member = is_member\n",
    "\n",
    "    def tampilkan_menu(self):\n",
    "        print(f\"\\n{self.nama}, pilih transaksi:\")\n",
    "        print(\"1. Top-up Saldo\")\n",
    "        print(\"2. Belanja\")\n",
    "        print(\"3. Keluar\")\n",
    "\n",
    "    def top_up(self):\n",
    "        jumlah = float(input(\"Masukkan jumlah top-up: \"))\n",
    "        self.saldo += jumlah\n",
    "        print(f\"Saldo berhasil di-top-up. Saldo saat ini: {self.saldo}\")\n",
    "\n",
    "    def belanja(self):\n",
    "        harga_sikat_gigi = 1000\n",
    "        harga_sabun = 800\n",
    "        harga_sampoo = 1500\n",
    "\n",
    "        jumlah_sikat_gigi = int(input(\"Masukkan jumlah sikat gigi: \"))\n",
    "        jumlah_sabun = int(input(\"Masukkan jumlah sabun: \"))\n",
    "        jumlah_sampoo = int(input(\"Masukkan jumlah sampoo: \"))\n",
    "\n",
    "        total_belanja = (jumlah_sikat_gigi * harga_sikat_gigi) + (jumlah_sabun * harga_sabun) + (jumlah_sampoo * harga_sampoo)\n",
    "\n",
    "        if self.is_member:\n",
    "            ppn = total_belanja * 0.05\n",
    "        else:\n",
    "            ppn = total_belanja * 0.10\n",
    "\n",
    "        total_belanja_dengan_ppn = total_belanja + ppn\n",
    "\n",
    "        if total_belanja_dengan_ppn <= self.saldo:\n",
    "            self.saldo -= total_belanja_dengan_ppn\n",
    "            print(f\"Total belanja: {total_belanja}\")\n",
    "            print(f\"PPN: {ppn}\")\n",
    "            print(f\"Total belanja dengan PPN: {total_belanja_dengan_ppn}\")\n",
    "            print(f\"Sisa saldo: {self.saldo}\")\n",
    "        else:\n",
    "            print(f\"Saldo Anda tidak cukup. Saldo Anda: {self.saldo} sedangkan belanja Anda adalah {total_belanja_dengan_ppn}\")\n",
    "\n",
    "    def mulai_transaksi(self):\n",
    "        while True:\n",
    "            self.tampilkan_menu()\n",
    "            pilihan = input(\"Masukkan pilihan transaksi: \")\n",
    "\n",
    "            if pilihan == \"1\":\n",
    "                self.top_up()\n",
    "            elif pilihan == \"2\":\n",
    "                self.belanja()\n",
    "            elif pilihan == \"3\":\n",
    "                print(f\"Terima kasih, {self.nama}! Transaksi selesai.\")\n",
    "                break\n",
    "            else:\n",
    "                print(\"Pilihan tidak valid. Silakan coba lagi.\")\n",
    "\n",
    "            lanjut = input(\"Apakah ingin melakukan transaksi lagi? (y/n): \")\n",
    "            if lanjut.lower() != 'y':\n",
    "                print(f\"Terima kasih, {self.nama}! Transaksi selesai.\")\n",
    "                break\n",
    "\n",
    "if __name__ == \"__main__\":\n",
    "    # User 1\n",
    "    nama1 = input(\"Masukkan nama user 1: \")\n",
    "    saldo_awal1 = float(input(\"Masukkan saldo awal user 1: \"))\n",
    "    is_member1 = input(\"Apakah user 1 member? (y/n): \").lower() == 'y'\n",
    "    user1 = User(nama1, saldo_awal1, is_member1)\n",
    "\n",
    "    # User 2\n",
    "    nama2 = input(\"Masukkan nama user 2: \")\n",
    "    saldo_awal2 = float(input(\"Masukkan saldo awal user 2: \"))\n",
    "    is_member2 = input(\"Apakah user 2 member? (y/n): \").lower() == 'y'\n",
    "    user2 = User(nama2, saldo_awal2, is_member2)\n",
    "\n",
    "    # Memulai transaksi untuk user 1 dan user 2\n",
    "    while True:\n",
    "        print(\"\\n--- Transaksi User 1 ---\")\n",
    "        user1.mulai_transaksi()\n",
    "        \n",
    "        lanjut_user2 = input(\"Apakah user 2 ingin melakukan transaksi? (y/n): \")\n",
    "        if lanjut_user2.lower() != 'y':\n",
    "            print(\"Terima kasih! Transaksi selesai untuk kedua user.\")\n",
    "            break\n",
    "\n",
    "        print(\"\\n--- Transaksi User 2 ---\")\n",
    "        user2.mulai_transaksi()\n",
    "        \n",
    "        lanjut_user1 = input(\"Apakah user 1 ingin melakukan transaksi lagi? (y/n): \")\n",
    "        if lanjut_user1.lower() != 'y':\n",
    "            print(\"Terima kasih! Transaksi selesai untuk kedua user.\")\n",
    "            break\n"
   ]
  },
  {
   "cell_type": "code",
   "execution_count": null,
   "metadata": {},
   "outputs": [],
   "source": []
  }
 ],
 "metadata": {
  "kernelspec": {
   "display_name": "base",
   "language": "python",
   "name": "python3"
  },
  "language_info": {
   "codemirror_mode": {
    "name": "ipython",
    "version": 3
   },
   "file_extension": ".py",
   "mimetype": "text/x-python",
   "name": "python",
   "nbconvert_exporter": "python",
   "pygments_lexer": "ipython3",
   "version": "3.11.5"
  }
 },
 "nbformat": 4,
 "nbformat_minor": 2
}
