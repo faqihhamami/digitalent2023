{
 "cells": [
  {
   "cell_type": "code",
   "execution_count": 1,
   "metadata": {},
   "outputs": [],
   "source": [
    "import pandas as pd"
   ]
  },
  {
   "cell_type": "code",
   "execution_count": 2,
   "metadata": {},
   "outputs": [],
   "source": [
    "pd.set_option(\"display.max_rows\", None)"
   ]
  },
  {
   "cell_type": "code",
   "execution_count": 3,
   "metadata": {},
   "outputs": [
    {
     "data": {
      "text/html": [
       "<div>\n",
       "<style scoped>\n",
       "    .dataframe tbody tr th:only-of-type {\n",
       "        vertical-align: middle;\n",
       "    }\n",
       "\n",
       "    .dataframe tbody tr th {\n",
       "        vertical-align: top;\n",
       "    }\n",
       "\n",
       "    .dataframe thead th {\n",
       "        text-align: right;\n",
       "    }\n",
       "</style>\n",
       "<table border=\"1\" class=\"dataframe\">\n",
       "  <thead>\n",
       "    <tr style=\"text-align: right;\">\n",
       "      <th></th>\n",
       "      <th>Kode Kecamatan</th>\n",
       "      <th>Kecamatan</th>\n",
       "      <th>Kode Kelurahan</th>\n",
       "      <th>Kelurahan</th>\n",
       "      <th>Jenjang Sekolah</th>\n",
       "      <th>Nama Sekolah</th>\n",
       "      <th>Alamat Sekolah</th>\n",
       "      <th>Jumlah Murid</th>\n",
       "      <th>Jumlah Guru</th>\n",
       "      <th>Ruang Kelas</th>\n",
       "      <th>Laboratorium</th>\n",
       "      <th>Fasilitas Olahraga</th>\n",
       "      <th>Toilet</th>\n",
       "      <th>Perpustakaan</th>\n",
       "    </tr>\n",
       "  </thead>\n",
       "  <tbody>\n",
       "    <tr>\n",
       "      <th>0</th>\n",
       "      <td>32.73.07</td>\n",
       "      <td>Sukajadi</td>\n",
       "      <td>32.73.07.1005</td>\n",
       "      <td>Sukabungah</td>\n",
       "      <td>PAUD</td>\n",
       "      <td>POS PAUD Bougenville</td>\n",
       "      <td>Jl. Sukajadi Gg. Eme Atas RT 07 RW 04</td>\n",
       "      <td>8</td>\n",
       "      <td>3</td>\n",
       "      <td>NaN</td>\n",
       "      <td>NaN</td>\n",
       "      <td>NaN</td>\n",
       "      <td>NaN</td>\n",
       "      <td>NaN</td>\n",
       "    </tr>\n",
       "    <tr>\n",
       "      <th>1</th>\n",
       "      <td>32.73.07</td>\n",
       "      <td>Sukajadi</td>\n",
       "      <td>32.73.07.1005</td>\n",
       "      <td>Sukabungah</td>\n",
       "      <td>PAUD</td>\n",
       "      <td>Kober PAUD Kibar Auladi</td>\n",
       "      <td>Jl. Sukajadi Gg. Pak Marjaban RT 02 RW 07</td>\n",
       "      <td>47</td>\n",
       "      <td>3</td>\n",
       "      <td>NaN</td>\n",
       "      <td>NaN</td>\n",
       "      <td>NaN</td>\n",
       "      <td>NaN</td>\n",
       "      <td>NaN</td>\n",
       "    </tr>\n",
       "    <tr>\n",
       "      <th>2</th>\n",
       "      <td>32.73.07</td>\n",
       "      <td>Sukajadi</td>\n",
       "      <td>32.73.07.1005</td>\n",
       "      <td>Sukabungah</td>\n",
       "      <td>PAUD</td>\n",
       "      <td>POS PAUD Melati</td>\n",
       "      <td>Jl. Dr Djunjunan RW 12</td>\n",
       "      <td>20</td>\n",
       "      <td>3</td>\n",
       "      <td>NaN</td>\n",
       "      <td>NaN</td>\n",
       "      <td>NaN</td>\n",
       "      <td>NaN</td>\n",
       "      <td>NaN</td>\n",
       "    </tr>\n",
       "  </tbody>\n",
       "</table>\n",
       "</div>"
      ],
      "text/plain": [
       "  Kode Kecamatan Kecamatan Kode Kelurahan   Kelurahan Jenjang Sekolah  \\\n",
       "0       32.73.07  Sukajadi  32.73.07.1005  Sukabungah            PAUD   \n",
       "1       32.73.07  Sukajadi  32.73.07.1005  Sukabungah            PAUD   \n",
       "2       32.73.07  Sukajadi  32.73.07.1005  Sukabungah            PAUD   \n",
       "\n",
       "              Nama Sekolah                             Alamat Sekolah  \\\n",
       "0     POS PAUD Bougenville      Jl. Sukajadi Gg. Eme Atas RT 07 RW 04   \n",
       "1  Kober PAUD Kibar Auladi  Jl. Sukajadi Gg. Pak Marjaban RT 02 RW 07   \n",
       "2          POS PAUD Melati                     Jl. Dr Djunjunan RW 12   \n",
       "\n",
       "   Jumlah Murid  Jumlah Guru Ruang Kelas Laboratorium Fasilitas Olahraga  \\\n",
       "0             8            3         NaN          NaN                NaN   \n",
       "1            47            3         NaN          NaN                NaN   \n",
       "2            20            3         NaN          NaN                NaN   \n",
       "\n",
       "  Toilet Perpustakaan  \n",
       "0    NaN          NaN  \n",
       "1    NaN          NaN  \n",
       "2    NaN          NaN  "
      ]
     },
     "execution_count": 3,
     "metadata": {},
     "output_type": "execute_result"
    }
   ],
   "source": [
    "df_sukajadi = pd.read_csv('tahun-2019---data-sarana-pendidikan-sukajadi.csv')\n",
    "df_cibiru = pd.read_csv('tahun-2019-data-sekolah-cibiru.csv')\n",
    "merged_df = pd.concat([df_sukajadi, df_cibiru], ignore_index=True)\n",
    "merged_df.head(3)"
   ]
  },
  {
   "cell_type": "code",
   "execution_count": 4,
   "metadata": {},
   "outputs": [
    {
     "data": {
      "text/html": [
       "<div>\n",
       "<style scoped>\n",
       "    .dataframe tbody tr th:only-of-type {\n",
       "        vertical-align: middle;\n",
       "    }\n",
       "\n",
       "    .dataframe tbody tr th {\n",
       "        vertical-align: top;\n",
       "    }\n",
       "\n",
       "    .dataframe thead th {\n",
       "        text-align: right;\n",
       "    }\n",
       "</style>\n",
       "<table border=\"1\" class=\"dataframe\">\n",
       "  <thead>\n",
       "    <tr style=\"text-align: right;\">\n",
       "      <th></th>\n",
       "      <th>Kode Kecamatan</th>\n",
       "      <th>Kecamatan</th>\n",
       "      <th>Kode Kelurahan</th>\n",
       "      <th>Kelurahan</th>\n",
       "      <th>Jenjang Sekolah</th>\n",
       "      <th>Nama Sekolah</th>\n",
       "      <th>Alamat Sekolah</th>\n",
       "      <th>Jumlah Murid</th>\n",
       "      <th>Jumlah Guru</th>\n",
       "      <th>Ruang Kelas</th>\n",
       "      <th>Laboratorium</th>\n",
       "      <th>Fasilitas Olahraga</th>\n",
       "      <th>Toilet</th>\n",
       "      <th>Perpustakaan</th>\n",
       "    </tr>\n",
       "  </thead>\n",
       "  <tbody>\n",
       "    <tr>\n",
       "      <th>131</th>\n",
       "      <td>32.73.25</td>\n",
       "      <td>Cibiru</td>\n",
       "      <td>32.73.25.1001</td>\n",
       "      <td>Cisurupan</td>\n",
       "      <td>SMA</td>\n",
       "      <td>SMA Al Islam</td>\n",
       "      <td>Sekehonje RT 02 RW 06</td>\n",
       "      <td>280</td>\n",
       "      <td>26</td>\n",
       "      <td>-</td>\n",
       "      <td>-</td>\n",
       "      <td>-</td>\n",
       "      <td>-</td>\n",
       "      <td>-</td>\n",
       "    </tr>\n",
       "    <tr>\n",
       "      <th>132</th>\n",
       "      <td>32.73.25</td>\n",
       "      <td>Cibiru</td>\n",
       "      <td>32.73.25.1001</td>\n",
       "      <td>Cisurupan</td>\n",
       "      <td>SMA</td>\n",
       "      <td>SMK Al Ghifari</td>\n",
       "      <td>Cisurupan RT 03 RW 05</td>\n",
       "      <td>129</td>\n",
       "      <td>22</td>\n",
       "      <td>-</td>\n",
       "      <td>-</td>\n",
       "      <td>-</td>\n",
       "      <td>-</td>\n",
       "      <td>-</td>\n",
       "    </tr>\n",
       "    <tr>\n",
       "      <th>133</th>\n",
       "      <td>32.73.25</td>\n",
       "      <td>Cibiru</td>\n",
       "      <td>32.73.25.1001</td>\n",
       "      <td>Cisurupan</td>\n",
       "      <td>SMA</td>\n",
       "      <td>KBM Ar Ropi</td>\n",
       "      <td>Cigagak RT 05 RW 07</td>\n",
       "      <td>26</td>\n",
       "      <td>7</td>\n",
       "      <td>10</td>\n",
       "      <td>-</td>\n",
       "      <td>-</td>\n",
       "      <td>-</td>\n",
       "      <td>-</td>\n",
       "    </tr>\n",
       "    <tr>\n",
       "      <th>134</th>\n",
       "      <td>32.73.25</td>\n",
       "      <td>Cibiru</td>\n",
       "      <td>32.73.25.1001</td>\n",
       "      <td>Cisurupan</td>\n",
       "      <td>SMA</td>\n",
       "      <td>SMK Al Ghifari</td>\n",
       "      <td>Cisurupan RT 03 RW 05</td>\n",
       "      <td>129</td>\n",
       "      <td>22</td>\n",
       "      <td>-</td>\n",
       "      <td>-</td>\n",
       "      <td>-</td>\n",
       "      <td>-</td>\n",
       "      <td>-</td>\n",
       "    </tr>\n",
       "    <tr>\n",
       "      <th>135</th>\n",
       "      <td>32.73.25</td>\n",
       "      <td>Cibiru</td>\n",
       "      <td>32.73.25.1001</td>\n",
       "      <td>Cisurupan</td>\n",
       "      <td>SMA</td>\n",
       "      <td>KBM Ar Ropi</td>\n",
       "      <td>Cigagak RT 05 RW 07</td>\n",
       "      <td>26</td>\n",
       "      <td>7</td>\n",
       "      <td>10</td>\n",
       "      <td>-</td>\n",
       "      <td>-</td>\n",
       "      <td>-</td>\n",
       "      <td>-</td>\n",
       "    </tr>\n",
       "  </tbody>\n",
       "</table>\n",
       "</div>"
      ],
      "text/plain": [
       "    Kode Kecamatan Kecamatan Kode Kelurahan  Kelurahan Jenjang Sekolah  \\\n",
       "131       32.73.25    Cibiru  32.73.25.1001  Cisurupan             SMA   \n",
       "132       32.73.25    Cibiru  32.73.25.1001  Cisurupan             SMA   \n",
       "133       32.73.25    Cibiru  32.73.25.1001  Cisurupan             SMA   \n",
       "134       32.73.25    Cibiru  32.73.25.1001  Cisurupan             SMA   \n",
       "135       32.73.25    Cibiru  32.73.25.1001  Cisurupan             SMA   \n",
       "\n",
       "       Nama Sekolah         Alamat Sekolah  Jumlah Murid  Jumlah Guru  \\\n",
       "131    SMA Al Islam  Sekehonje RT 02 RW 06           280           26   \n",
       "132  SMK Al Ghifari  Cisurupan RT 03 RW 05           129           22   \n",
       "133     KBM Ar Ropi    Cigagak RT 05 RW 07            26            7   \n",
       "134  SMK Al Ghifari  Cisurupan RT 03 RW 05           129           22   \n",
       "135     KBM Ar Ropi    Cigagak RT 05 RW 07            26            7   \n",
       "\n",
       "    Ruang Kelas Laboratorium Fasilitas Olahraga Toilet Perpustakaan  \n",
       "131           -            -                  -      -            -  \n",
       "132           -            -                  -      -            -  \n",
       "133          10            -                  -      -            -  \n",
       "134           -            -                  -      -            -  \n",
       "135          10            -                  -      -            -  "
      ]
     },
     "execution_count": 4,
     "metadata": {},
     "output_type": "execute_result"
    }
   ],
   "source": [
    "merged_df.tail()"
   ]
  },
  {
   "cell_type": "code",
   "execution_count": 31,
   "metadata": {},
   "outputs": [
    {
     "data": {
      "text/plain": [
       "(136, 14)"
      ]
     },
     "execution_count": 31,
     "metadata": {},
     "output_type": "execute_result"
    }
   ],
   "source": [
    "merged_df.shape"
   ]
  },
  {
   "cell_type": "code",
   "execution_count": 32,
   "metadata": {},
   "outputs": [
    {
     "data": {
      "text/plain": [
       "Al Barokah                    3\n",
       "Al Mustofa                    3\n",
       "KBM Ar Ropi                   2\n",
       "Al Jihad                      2\n",
       "Giki                          2\n",
       "Al Akhlaq                     2\n",
       "Al Falah                      2\n",
       "Nurul Falah                   2\n",
       "SMK Al Ghifari                2\n",
       "TK Bhayangkari                1\n",
       "TKQ Shaadatulrohman           1\n",
       "PAUD Mekarbiru                1\n",
       "PAUD Aster                    1\n",
       "PAUD Pasirbiru                1\n",
       "PAUD Al MAnar                 1\n",
       "PAUD MAtahari                 1\n",
       "PAUD Mekar Bhakti             1\n",
       "PAUD Sari Biru                1\n",
       "Slb Muhammadiyah Cipedes      1\n",
       "Smp Muhamadiyah               1\n",
       "SD Ibnu Tamiyah               1\n",
       "Muhamadiyah                   1\n",
       "SD Citra Winaya               1\n",
       "POS PAUD Kenari               1\n",
       "POS PAUD Pelangi              1\n",
       "PAUD Flamboyan                1\n",
       "POS PAUD Al Bayan             1\n",
       "SD Al Ikhlas                  1\n",
       "POS PAUD Ashodiqin            1\n",
       "TK Tunas Harapan              1\n",
       "SDN Sukajadi 194              1\n",
       "SDN Luginasari                1\n",
       "TK Hidayatul Amanah           1\n",
       "PAUD Al Hidayah               1\n",
       "TK Tunas Krida Nusantara      1\n",
       "POS PAUD Merak                1\n",
       "TK PAUD Anggrek Ceria         1\n",
       "SMA Al Islam                  1\n",
       "SMP Al Islam                  1\n",
       "SMP Al Ghifari                1\n",
       "SD Intan Sali Iskandar        1\n",
       "SDN Hanura                    1\n",
       "SDN Cigagak                   1\n",
       "SDN Cilengkrang               1\n",
       "PAUD/TKq Darul Ihsan          1\n",
       "TK/PAUD Al Iklas              1\n",
       "TK/ PAUD Al  Ikhlas           1\n",
       "TK PAUD  Daarut Taqwa         1\n",
       "TK/PAUD Sabilillah            1\n",
       "TK Al Islam                   1\n",
       "TK  Bakti Suci                1\n",
       "RA Ar Rosyidiyah              1\n",
       "TK/RA  Nurul Ikhlas           1\n",
       "PAUD Dahlia                   1\n",
       "PAUD/TKq  An Nuur             1\n",
       "TK/RA  Al Alif                1\n",
       "SMAtTKrida Nusantara          1\n",
       "MA Ar Rosyidiyah              1\n",
       "Mts Ar Rosyidiyah             1\n",
       "SMP MusliMIn 5                1\n",
       "SDT Krida Nusantara           1\n",
       "MI Ar Rosyidiyah              1\n",
       "SDN 102 Cikudayasa            1\n",
       "SDN 090 Cibiru                1\n",
       "SDN 050 Cibiru                1\n",
       "POS PAUD Gelatik              1\n",
       "POS PAUD Bougenville          1\n",
       "SMA Pgri 1                    1\n",
       "SMA Puragabaya                1\n",
       "SDN 048 Sirnamah              1\n",
       "SDN 077 Sejahtera             1\n",
       "Trisula Perwari               1\n",
       "Al Fitroh                     1\n",
       "Al Azhar                      1\n",
       "Yayasan Beribu                1\n",
       "POS PAUD Nuurushobah          1\n",
       "KB Rumah Pelangi              1\n",
       "SPS Melati Bangsa             1\n",
       "KB Cerdas Berkalakter         1\n",
       "POS PAUD Ceria                1\n",
       "SMAK Puragabaya               1\n",
       "SD Ukhuwah Islamiyah          1\n",
       "Smp Semi Palaar               1\n",
       "SDN Sukagalih Timur           1\n",
       "SDN Sukagalih Barat           1\n",
       "TK Aisyiyah 10                1\n",
       "TK Melati Asri                1\n",
       "TKQ Azharul Hidayah           1\n",
       "TKQ Ar Rasyid                 1\n",
       "TK Melati                     1\n",
       "TK/Kober Az-Zahra Aisyiyah    1\n",
       "TK Al-Amanah                  1\n",
       "POS PAUD Nur Rohmah           1\n",
       "POS PAUD Mutiara Hati         1\n",
       "POS PAUD Melati               1\n",
       "SDN 076 Sukajadi              1\n",
       "Cemara                        1\n",
       "Ar - Rohmah                   1\n",
       "PAUD Cahaya Iman              1\n",
       "Slb D Ypac                    1\n",
       "Kober PAUD Kibar Auladi       1\n",
       "SMA Indra                     1\n",
       "Smp Indra                     1\n",
       "Smp Negeri 26                 1\n",
       "SDN 072 Sukasari              1\n",
       "SDN 207 Cibogo                1\n",
       "SDN 096 Sarijadi Selatan      1\n",
       "SDN 136 Sukawarna             1\n",
       "Nur Anka                      1\n",
       "Kuncup Harapan                1\n",
       "PAUD Indriasana               1\n",
       "PAUD Mentari                  1\n",
       "PAUD Cerdas                   1\n",
       "PAUD Cekas                    1\n",
       "SDN Caringin                  1\n",
       "SD 272 Sukasari               1\n",
       "SD Semi Palaar                1\n",
       "TK Semi Palaar                1\n",
       "PAUD Sukmawati                1\n",
       "PAUD Wisana 2                 1\n",
       "PAUD Kuntum Mekar             1\n",
       "PAUD Nurul Hikmah             1\n",
       "PAUD Al-Hidayah               1\n",
       "PAUD Nurul Huda               1\n",
       "Smk Indra                     1\n",
       "Name: Nama Sekolah, dtype: int64"
      ]
     },
     "execution_count": 32,
     "metadata": {},
     "output_type": "execute_result"
    }
   ],
   "source": [
    "merged_df['Nama Sekolah'].value_counts()"
   ]
  },
  {
   "cell_type": "code",
   "execution_count": 33,
   "metadata": {},
   "outputs": [
    {
     "data": {
      "text/plain": [
       "125"
      ]
     },
     "execution_count": 33,
     "metadata": {},
     "output_type": "execute_result"
    }
   ],
   "source": [
    "merged_df['Nama Sekolah'].value_counts().count()"
   ]
  },
  {
   "cell_type": "code",
   "execution_count": 34,
   "metadata": {},
   "outputs": [
    {
     "data": {
      "text/plain": [
       "(136, 14)"
      ]
     },
     "execution_count": 34,
     "metadata": {},
     "output_type": "execute_result"
    }
   ],
   "source": [
    "merged_df.shape"
   ]
  },
  {
   "cell_type": "code",
   "execution_count": 35,
   "metadata": {},
   "outputs": [
    {
     "data": {
      "text/plain": [
       "Index(['Kode Kecamatan', 'Kecamatan', 'Kode Kelurahan', 'Kelurahan',\n",
       "       'Jenjang Sekolah', 'Nama Sekolah', 'Alamat Sekolah', 'Jumlah Murid',\n",
       "       'Jumlah Guru', 'Ruang Kelas', 'Laboratorium', 'Fasilitas Olahraga',\n",
       "       'Toilet', 'Perpustakaan'],\n",
       "      dtype='object')"
      ]
     },
     "execution_count": 35,
     "metadata": {},
     "output_type": "execute_result"
    }
   ],
   "source": [
    "merged_df.columns"
   ]
  },
  {
   "cell_type": "code",
   "execution_count": null,
   "metadata": {},
   "outputs": [],
   "source": []
  },
  {
   "cell_type": "code",
   "execution_count": 36,
   "metadata": {},
   "outputs": [
    {
     "data": {
      "text/html": [
       "<div>\n",
       "<style scoped>\n",
       "    .dataframe tbody tr th:only-of-type {\n",
       "        vertical-align: middle;\n",
       "    }\n",
       "\n",
       "    .dataframe tbody tr th {\n",
       "        vertical-align: top;\n",
       "    }\n",
       "\n",
       "    .dataframe thead th {\n",
       "        text-align: right;\n",
       "    }\n",
       "</style>\n",
       "<table border=\"1\" class=\"dataframe\">\n",
       "  <thead>\n",
       "    <tr style=\"text-align: right;\">\n",
       "      <th></th>\n",
       "      <th>Kode Kecamatan</th>\n",
       "      <th>Kecamatan</th>\n",
       "      <th>Kode Kelurahan</th>\n",
       "      <th>Kelurahan</th>\n",
       "      <th>Jenjang Sekolah</th>\n",
       "      <th>Nama Sekolah</th>\n",
       "      <th>Alamat Sekolah</th>\n",
       "      <th>Jumlah Murid</th>\n",
       "      <th>Jumlah Guru</th>\n",
       "      <th>Ruang Kelas</th>\n",
       "      <th>Laboratorium</th>\n",
       "      <th>Fasilitas Olahraga</th>\n",
       "      <th>Toilet</th>\n",
       "      <th>Perpustakaan</th>\n",
       "    </tr>\n",
       "  </thead>\n",
       "  <tbody>\n",
       "    <tr>\n",
       "      <th>51</th>\n",
       "      <td>32.73.07</td>\n",
       "      <td>Sukajadi</td>\n",
       "      <td>32.73.07.1003</td>\n",
       "      <td>Sukawarna</td>\n",
       "      <td>TK / RA / DTA</td>\n",
       "      <td>Al Barokah</td>\n",
       "      <td>RT 01 RW 03</td>\n",
       "      <td>20</td>\n",
       "      <td>4</td>\n",
       "      <td>NaN</td>\n",
       "      <td>NaN</td>\n",
       "      <td>NaN</td>\n",
       "      <td>NaN</td>\n",
       "      <td>NaN</td>\n",
       "    </tr>\n",
       "    <tr>\n",
       "      <th>52</th>\n",
       "      <td>32.73.07</td>\n",
       "      <td>Sukajadi</td>\n",
       "      <td>32.73.07.1003</td>\n",
       "      <td>Sukawarna</td>\n",
       "      <td>TK / RA / DTA</td>\n",
       "      <td>Al Barokah</td>\n",
       "      <td>RT 01 RW 03</td>\n",
       "      <td>97</td>\n",
       "      <td>6</td>\n",
       "      <td>NaN</td>\n",
       "      <td>NaN</td>\n",
       "      <td>NaN</td>\n",
       "      <td>NaN</td>\n",
       "      <td>NaN</td>\n",
       "    </tr>\n",
       "    <tr>\n",
       "      <th>53</th>\n",
       "      <td>32.73.07</td>\n",
       "      <td>Sukajadi</td>\n",
       "      <td>32.73.07.1003</td>\n",
       "      <td>Sukawarna</td>\n",
       "      <td>TK / RA / DTA</td>\n",
       "      <td>Al Barokah</td>\n",
       "      <td>RT 01 RW 03</td>\n",
       "      <td>17</td>\n",
       "      <td>2</td>\n",
       "      <td>NaN</td>\n",
       "      <td>NaN</td>\n",
       "      <td>NaN</td>\n",
       "      <td>NaN</td>\n",
       "      <td>NaN</td>\n",
       "    </tr>\n",
       "  </tbody>\n",
       "</table>\n",
       "</div>"
      ],
      "text/plain": [
       "   Kode Kecamatan Kecamatan Kode Kelurahan  Kelurahan Jenjang Sekolah  \\\n",
       "51       32.73.07  Sukajadi  32.73.07.1003  Sukawarna   TK / RA / DTA   \n",
       "52       32.73.07  Sukajadi  32.73.07.1003  Sukawarna   TK / RA / DTA   \n",
       "53       32.73.07  Sukajadi  32.73.07.1003  Sukawarna   TK / RA / DTA   \n",
       "\n",
       "   Nama Sekolah Alamat Sekolah  Jumlah Murid  Jumlah Guru Ruang Kelas  \\\n",
       "51   Al Barokah    RT 01 RW 03            20            4         NaN   \n",
       "52   Al Barokah    RT 01 RW 03            97            6         NaN   \n",
       "53   Al Barokah    RT 01 RW 03            17            2         NaN   \n",
       "\n",
       "   Laboratorium Fasilitas Olahraga Toilet Perpustakaan  \n",
       "51          NaN                NaN    NaN          NaN  \n",
       "52          NaN                NaN    NaN          NaN  \n",
       "53          NaN                NaN    NaN          NaN  "
      ]
     },
     "execution_count": 36,
     "metadata": {},
     "output_type": "execute_result"
    }
   ],
   "source": [
    "merged_df[merged_df['Nama Sekolah'] == 'Al Barokah']"
   ]
  },
  {
   "cell_type": "code",
   "execution_count": 6,
   "metadata": {},
   "outputs": [
    {
     "data": {
      "text/plain": [
       "19885"
      ]
     },
     "execution_count": 6,
     "metadata": {},
     "output_type": "execute_result"
    }
   ],
   "source": [
    "# jumlah murid \n",
    "merged_df['Jumlah Murid'].sum()"
   ]
  },
  {
   "cell_type": "code",
   "execution_count": 38,
   "metadata": {},
   "outputs": [
    {
     "data": {
      "text/plain": [
       "1419"
      ]
     },
     "execution_count": 38,
     "metadata": {},
     "output_type": "execute_result"
    }
   ],
   "source": [
    "merged_df['Jumlah Guru'].sum()"
   ]
  },
  {
   "cell_type": "code",
   "execution_count": 39,
   "metadata": {},
   "outputs": [
    {
     "ename": "TypeError",
     "evalue": "unsupported operand type(s) for +: 'int' and 'str'",
     "output_type": "error",
     "traceback": [
      "\u001b[1;31m---------------------------------------------------------------------------\u001b[0m",
      "\u001b[1;31mTypeError\u001b[0m                                 Traceback (most recent call last)",
      "\u001b[1;32m<ipython-input-39-76cfadddf302>\u001b[0m in \u001b[0;36m<module>\u001b[1;34m\u001b[0m\n\u001b[0;32m      1\u001b[0m \u001b[1;31m# berapa banyak jumlah kelas\u001b[0m\u001b[1;33m\u001b[0m\u001b[1;33m\u001b[0m\u001b[1;33m\u001b[0m\u001b[0m\n\u001b[1;32m----> 2\u001b[1;33m \u001b[0mmerged_df\u001b[0m\u001b[1;33m[\u001b[0m\u001b[1;34m'Ruang Kelas'\u001b[0m\u001b[1;33m]\u001b[0m\u001b[1;33m.\u001b[0m\u001b[0msum\u001b[0m\u001b[1;33m(\u001b[0m\u001b[1;33m)\u001b[0m\u001b[1;33m\u001b[0m\u001b[1;33m\u001b[0m\u001b[0m\n\u001b[0m",
      "\u001b[1;32m~\\AppData\\Roaming\\Python\\Python38\\site-packages\\pandas\\core\\generic.py\u001b[0m in \u001b[0;36msum\u001b[1;34m(self, axis, skipna, level, numeric_only, min_count, **kwargs)\u001b[0m\n\u001b[0;32m  11072\u001b[0m             \u001b[1;33m**\u001b[0m\u001b[0mkwargs\u001b[0m\u001b[1;33m,\u001b[0m\u001b[1;33m\u001b[0m\u001b[1;33m\u001b[0m\u001b[0m\n\u001b[0;32m  11073\u001b[0m         ):\n\u001b[1;32m> 11074\u001b[1;33m             return NDFrame.sum(\n\u001b[0m\u001b[0;32m  11075\u001b[0m                 \u001b[0mself\u001b[0m\u001b[1;33m,\u001b[0m \u001b[0maxis\u001b[0m\u001b[1;33m,\u001b[0m \u001b[0mskipna\u001b[0m\u001b[1;33m,\u001b[0m \u001b[0mlevel\u001b[0m\u001b[1;33m,\u001b[0m \u001b[0mnumeric_only\u001b[0m\u001b[1;33m,\u001b[0m \u001b[0mmin_count\u001b[0m\u001b[1;33m,\u001b[0m \u001b[1;33m**\u001b[0m\u001b[0mkwargs\u001b[0m\u001b[1;33m\u001b[0m\u001b[1;33m\u001b[0m\u001b[0m\n\u001b[0;32m  11076\u001b[0m             )\n",
      "\u001b[1;32m~\\AppData\\Roaming\\Python\\Python38\\site-packages\\pandas\\core\\generic.py\u001b[0m in \u001b[0;36msum\u001b[1;34m(self, axis, skipna, level, numeric_only, min_count, **kwargs)\u001b[0m\n\u001b[0;32m  10792\u001b[0m         \u001b[1;33m**\u001b[0m\u001b[0mkwargs\u001b[0m\u001b[1;33m,\u001b[0m\u001b[1;33m\u001b[0m\u001b[1;33m\u001b[0m\u001b[0m\n\u001b[0;32m  10793\u001b[0m     ):\n\u001b[1;32m> 10794\u001b[1;33m         return self._min_count_stat_function(\n\u001b[0m\u001b[0;32m  10795\u001b[0m             \u001b[1;34m\"sum\"\u001b[0m\u001b[1;33m,\u001b[0m \u001b[0mnanops\u001b[0m\u001b[1;33m.\u001b[0m\u001b[0mnansum\u001b[0m\u001b[1;33m,\u001b[0m \u001b[0maxis\u001b[0m\u001b[1;33m,\u001b[0m \u001b[0mskipna\u001b[0m\u001b[1;33m,\u001b[0m \u001b[0mlevel\u001b[0m\u001b[1;33m,\u001b[0m \u001b[0mnumeric_only\u001b[0m\u001b[1;33m,\u001b[0m \u001b[0mmin_count\u001b[0m\u001b[1;33m,\u001b[0m \u001b[1;33m**\u001b[0m\u001b[0mkwargs\u001b[0m\u001b[1;33m\u001b[0m\u001b[1;33m\u001b[0m\u001b[0m\n\u001b[0;32m  10796\u001b[0m         )\n",
      "\u001b[1;32m~\\AppData\\Roaming\\Python\\Python38\\site-packages\\pandas\\core\\generic.py\u001b[0m in \u001b[0;36m_min_count_stat_function\u001b[1;34m(self, name, func, axis, skipna, level, numeric_only, min_count, **kwargs)\u001b[0m\n\u001b[0;32m  10774\u001b[0m             )\n\u001b[0;32m  10775\u001b[0m \u001b[1;33m\u001b[0m\u001b[0m\n\u001b[1;32m> 10776\u001b[1;33m         return self._reduce(\n\u001b[0m\u001b[0;32m  10777\u001b[0m             \u001b[0mfunc\u001b[0m\u001b[1;33m,\u001b[0m\u001b[1;33m\u001b[0m\u001b[1;33m\u001b[0m\u001b[0m\n\u001b[0;32m  10778\u001b[0m             \u001b[0mname\u001b[0m\u001b[1;33m=\u001b[0m\u001b[0mname\u001b[0m\u001b[1;33m,\u001b[0m\u001b[1;33m\u001b[0m\u001b[1;33m\u001b[0m\u001b[0m\n",
      "\u001b[1;32m~\\AppData\\Roaming\\Python\\Python38\\site-packages\\pandas\\core\\series.py\u001b[0m in \u001b[0;36m_reduce\u001b[1;34m(self, op, name, axis, skipna, numeric_only, filter_type, **kwds)\u001b[0m\n\u001b[0;32m   4469\u001b[0m                 )\n\u001b[0;32m   4470\u001b[0m             \u001b[1;32mwith\u001b[0m \u001b[0mnp\u001b[0m\u001b[1;33m.\u001b[0m\u001b[0merrstate\u001b[0m\u001b[1;33m(\u001b[0m\u001b[0mall\u001b[0m\u001b[1;33m=\u001b[0m\u001b[1;34m\"ignore\"\u001b[0m\u001b[1;33m)\u001b[0m\u001b[1;33m:\u001b[0m\u001b[1;33m\u001b[0m\u001b[1;33m\u001b[0m\u001b[0m\n\u001b[1;32m-> 4471\u001b[1;33m                 \u001b[1;32mreturn\u001b[0m \u001b[0mop\u001b[0m\u001b[1;33m(\u001b[0m\u001b[0mdelegate\u001b[0m\u001b[1;33m,\u001b[0m \u001b[0mskipna\u001b[0m\u001b[1;33m=\u001b[0m\u001b[0mskipna\u001b[0m\u001b[1;33m,\u001b[0m \u001b[1;33m**\u001b[0m\u001b[0mkwds\u001b[0m\u001b[1;33m)\u001b[0m\u001b[1;33m\u001b[0m\u001b[1;33m\u001b[0m\u001b[0m\n\u001b[0m\u001b[0;32m   4472\u001b[0m \u001b[1;33m\u001b[0m\u001b[0m\n\u001b[0;32m   4473\u001b[0m     def _reindex_indexer(\n",
      "\u001b[1;32m~\\AppData\\Roaming\\Python\\Python38\\site-packages\\pandas\\core\\nanops.py\u001b[0m in \u001b[0;36m_f\u001b[1;34m(*args, **kwargs)\u001b[0m\n\u001b[0;32m     91\u001b[0m             \u001b[1;32mtry\u001b[0m\u001b[1;33m:\u001b[0m\u001b[1;33m\u001b[0m\u001b[1;33m\u001b[0m\u001b[0m\n\u001b[0;32m     92\u001b[0m                 \u001b[1;32mwith\u001b[0m \u001b[0mnp\u001b[0m\u001b[1;33m.\u001b[0m\u001b[0merrstate\u001b[0m\u001b[1;33m(\u001b[0m\u001b[0minvalid\u001b[0m\u001b[1;33m=\u001b[0m\u001b[1;34m\"ignore\"\u001b[0m\u001b[1;33m)\u001b[0m\u001b[1;33m:\u001b[0m\u001b[1;33m\u001b[0m\u001b[1;33m\u001b[0m\u001b[0m\n\u001b[1;32m---> 93\u001b[1;33m                     \u001b[1;32mreturn\u001b[0m \u001b[0mf\u001b[0m\u001b[1;33m(\u001b[0m\u001b[1;33m*\u001b[0m\u001b[0margs\u001b[0m\u001b[1;33m,\u001b[0m \u001b[1;33m**\u001b[0m\u001b[0mkwargs\u001b[0m\u001b[1;33m)\u001b[0m\u001b[1;33m\u001b[0m\u001b[1;33m\u001b[0m\u001b[0m\n\u001b[0m\u001b[0;32m     94\u001b[0m             \u001b[1;32mexcept\u001b[0m \u001b[0mValueError\u001b[0m \u001b[1;32mas\u001b[0m \u001b[0me\u001b[0m\u001b[1;33m:\u001b[0m\u001b[1;33m\u001b[0m\u001b[1;33m\u001b[0m\u001b[0m\n\u001b[0;32m     95\u001b[0m                 \u001b[1;31m# we want to transform an object array\u001b[0m\u001b[1;33m\u001b[0m\u001b[1;33m\u001b[0m\u001b[1;33m\u001b[0m\u001b[0m\n",
      "\u001b[1;32m~\\AppData\\Roaming\\Python\\Python38\\site-packages\\pandas\\core\\nanops.py\u001b[0m in \u001b[0;36mnew_func\u001b[1;34m(values, axis, skipna, mask, **kwargs)\u001b[0m\n\u001b[0;32m    408\u001b[0m             \u001b[0mmask\u001b[0m \u001b[1;33m=\u001b[0m \u001b[0misna\u001b[0m\u001b[1;33m(\u001b[0m\u001b[0mvalues\u001b[0m\u001b[1;33m)\u001b[0m\u001b[1;33m\u001b[0m\u001b[1;33m\u001b[0m\u001b[0m\n\u001b[0;32m    409\u001b[0m \u001b[1;33m\u001b[0m\u001b[0m\n\u001b[1;32m--> 410\u001b[1;33m         \u001b[0mresult\u001b[0m \u001b[1;33m=\u001b[0m \u001b[0mfunc\u001b[0m\u001b[1;33m(\u001b[0m\u001b[0mvalues\u001b[0m\u001b[1;33m,\u001b[0m \u001b[0maxis\u001b[0m\u001b[1;33m=\u001b[0m\u001b[0maxis\u001b[0m\u001b[1;33m,\u001b[0m \u001b[0mskipna\u001b[0m\u001b[1;33m=\u001b[0m\u001b[0mskipna\u001b[0m\u001b[1;33m,\u001b[0m \u001b[0mmask\u001b[0m\u001b[1;33m=\u001b[0m\u001b[0mmask\u001b[0m\u001b[1;33m,\u001b[0m \u001b[1;33m**\u001b[0m\u001b[0mkwargs\u001b[0m\u001b[1;33m)\u001b[0m\u001b[1;33m\u001b[0m\u001b[1;33m\u001b[0m\u001b[0m\n\u001b[0m\u001b[0;32m    411\u001b[0m \u001b[1;33m\u001b[0m\u001b[0m\n\u001b[0;32m    412\u001b[0m         \u001b[1;32mif\u001b[0m \u001b[0mdatetimelike\u001b[0m\u001b[1;33m:\u001b[0m\u001b[1;33m\u001b[0m\u001b[1;33m\u001b[0m\u001b[0m\n",
      "\u001b[1;32m~\\AppData\\Roaming\\Python\\Python38\\site-packages\\pandas\\core\\nanops.py\u001b[0m in \u001b[0;36mnewfunc\u001b[1;34m(values, axis, **kwargs)\u001b[0m\n\u001b[0;32m    481\u001b[0m             \u001b[1;32mreturn\u001b[0m \u001b[0mnp\u001b[0m\u001b[1;33m.\u001b[0m\u001b[0marray\u001b[0m\u001b[1;33m(\u001b[0m\u001b[0mresults\u001b[0m\u001b[1;33m)\u001b[0m\u001b[1;33m\u001b[0m\u001b[1;33m\u001b[0m\u001b[0m\n\u001b[0;32m    482\u001b[0m \u001b[1;33m\u001b[0m\u001b[0m\n\u001b[1;32m--> 483\u001b[1;33m         \u001b[1;32mreturn\u001b[0m \u001b[0mfunc\u001b[0m\u001b[1;33m(\u001b[0m\u001b[0mvalues\u001b[0m\u001b[1;33m,\u001b[0m \u001b[0maxis\u001b[0m\u001b[1;33m=\u001b[0m\u001b[0maxis\u001b[0m\u001b[1;33m,\u001b[0m \u001b[1;33m**\u001b[0m\u001b[0mkwargs\u001b[0m\u001b[1;33m)\u001b[0m\u001b[1;33m\u001b[0m\u001b[1;33m\u001b[0m\u001b[0m\n\u001b[0m\u001b[0;32m    484\u001b[0m \u001b[1;33m\u001b[0m\u001b[0m\n\u001b[0;32m    485\u001b[0m     \u001b[1;32mreturn\u001b[0m \u001b[0mcast\u001b[0m\u001b[1;33m(\u001b[0m\u001b[0mF\u001b[0m\u001b[1;33m,\u001b[0m \u001b[0mnewfunc\u001b[0m\u001b[1;33m)\u001b[0m\u001b[1;33m\u001b[0m\u001b[1;33m\u001b[0m\u001b[0m\n",
      "\u001b[1;32m~\\AppData\\Roaming\\Python\\Python38\\site-packages\\pandas\\core\\nanops.py\u001b[0m in \u001b[0;36mnansum\u001b[1;34m(values, axis, skipna, min_count, mask)\u001b[0m\n\u001b[0;32m    621\u001b[0m         \u001b[0mdtype_sum\u001b[0m \u001b[1;33m=\u001b[0m \u001b[0mnp\u001b[0m\u001b[1;33m.\u001b[0m\u001b[0mdtype\u001b[0m\u001b[1;33m(\u001b[0m\u001b[0mnp\u001b[0m\u001b[1;33m.\u001b[0m\u001b[0mfloat64\u001b[0m\u001b[1;33m)\u001b[0m\u001b[1;33m\u001b[0m\u001b[1;33m\u001b[0m\u001b[0m\n\u001b[0;32m    622\u001b[0m \u001b[1;33m\u001b[0m\u001b[0m\n\u001b[1;32m--> 623\u001b[1;33m     \u001b[0mthe_sum\u001b[0m \u001b[1;33m=\u001b[0m \u001b[0mvalues\u001b[0m\u001b[1;33m.\u001b[0m\u001b[0msum\u001b[0m\u001b[1;33m(\u001b[0m\u001b[0maxis\u001b[0m\u001b[1;33m,\u001b[0m \u001b[0mdtype\u001b[0m\u001b[1;33m=\u001b[0m\u001b[0mdtype_sum\u001b[0m\u001b[1;33m)\u001b[0m\u001b[1;33m\u001b[0m\u001b[1;33m\u001b[0m\u001b[0m\n\u001b[0m\u001b[0;32m    624\u001b[0m     \u001b[0mthe_sum\u001b[0m \u001b[1;33m=\u001b[0m \u001b[0m_maybe_null_out\u001b[0m\u001b[1;33m(\u001b[0m\u001b[0mthe_sum\u001b[0m\u001b[1;33m,\u001b[0m \u001b[0maxis\u001b[0m\u001b[1;33m,\u001b[0m \u001b[0mmask\u001b[0m\u001b[1;33m,\u001b[0m \u001b[0mvalues\u001b[0m\u001b[1;33m.\u001b[0m\u001b[0mshape\u001b[0m\u001b[1;33m,\u001b[0m \u001b[0mmin_count\u001b[0m\u001b[1;33m=\u001b[0m\u001b[0mmin_count\u001b[0m\u001b[1;33m)\u001b[0m\u001b[1;33m\u001b[0m\u001b[1;33m\u001b[0m\u001b[0m\n\u001b[0;32m    625\u001b[0m \u001b[1;33m\u001b[0m\u001b[0m\n",
      "\u001b[1;32mc:\\Users\\faqih\\Anaconda3\\lib\\site-packages\\numpy\\core\\_methods.py\u001b[0m in \u001b[0;36m_sum\u001b[1;34m(a, axis, dtype, out, keepdims, initial, where)\u001b[0m\n\u001b[0;32m     36\u001b[0m def _sum(a, axis=None, dtype=None, out=None, keepdims=False,\n\u001b[0;32m     37\u001b[0m          initial=_NoValue, where=True):\n\u001b[1;32m---> 38\u001b[1;33m     \u001b[1;32mreturn\u001b[0m \u001b[0mumr_sum\u001b[0m\u001b[1;33m(\u001b[0m\u001b[0ma\u001b[0m\u001b[1;33m,\u001b[0m \u001b[0maxis\u001b[0m\u001b[1;33m,\u001b[0m \u001b[0mdtype\u001b[0m\u001b[1;33m,\u001b[0m \u001b[0mout\u001b[0m\u001b[1;33m,\u001b[0m \u001b[0mkeepdims\u001b[0m\u001b[1;33m,\u001b[0m \u001b[0minitial\u001b[0m\u001b[1;33m,\u001b[0m \u001b[0mwhere\u001b[0m\u001b[1;33m)\u001b[0m\u001b[1;33m\u001b[0m\u001b[1;33m\u001b[0m\u001b[0m\n\u001b[0m\u001b[0;32m     39\u001b[0m \u001b[1;33m\u001b[0m\u001b[0m\n\u001b[0;32m     40\u001b[0m def _prod(a, axis=None, dtype=None, out=None, keepdims=False,\n",
      "\u001b[1;31mTypeError\u001b[0m: unsupported operand type(s) for +: 'int' and 'str'"
     ]
    }
   ],
   "source": [
    "# berapa banyak jumlah kelas \n",
    "merged_df['Ruang Kelas'].sum()"
   ]
  },
  {
   "cell_type": "code",
   "execution_count": 40,
   "metadata": {},
   "outputs": [
    {
     "data": {
      "text/html": [
       "<div>\n",
       "<style scoped>\n",
       "    .dataframe tbody tr th:only-of-type {\n",
       "        vertical-align: middle;\n",
       "    }\n",
       "\n",
       "    .dataframe tbody tr th {\n",
       "        vertical-align: top;\n",
       "    }\n",
       "\n",
       "    .dataframe thead th {\n",
       "        text-align: right;\n",
       "    }\n",
       "</style>\n",
       "<table border=\"1\" class=\"dataframe\">\n",
       "  <thead>\n",
       "    <tr style=\"text-align: right;\">\n",
       "      <th></th>\n",
       "      <th>Kode Kecamatan</th>\n",
       "      <th>Kecamatan</th>\n",
       "      <th>Kode Kelurahan</th>\n",
       "      <th>Kelurahan</th>\n",
       "      <th>Jenjang Sekolah</th>\n",
       "      <th>Nama Sekolah</th>\n",
       "      <th>Alamat Sekolah</th>\n",
       "      <th>Jumlah Murid</th>\n",
       "      <th>Jumlah Guru</th>\n",
       "      <th>Ruang Kelas</th>\n",
       "      <th>Laboratorium</th>\n",
       "      <th>Fasilitas Olahraga</th>\n",
       "      <th>Toilet</th>\n",
       "      <th>Perpustakaan</th>\n",
       "    </tr>\n",
       "  </thead>\n",
       "  <tbody>\n",
       "    <tr>\n",
       "      <th>113</th>\n",
       "      <td>32.73.25</td>\n",
       "      <td>Cibiru</td>\n",
       "      <td>32.73.25.1001</td>\n",
       "      <td>Cisurupan</td>\n",
       "      <td>TK/PAUD</td>\n",
       "      <td>TK/RA  Al Alif</td>\n",
       "      <td>Jl. Cilengkrang RT 01 RW 01</td>\n",
       "      <td>32</td>\n",
       "      <td>6</td>\n",
       "      <td>-</td>\n",
       "      <td>-</td>\n",
       "      <td>-</td>\n",
       "      <td>-</td>\n",
       "      <td>-</td>\n",
       "    </tr>\n",
       "    <tr>\n",
       "      <th>114</th>\n",
       "      <td>32.73.25</td>\n",
       "      <td>Cibiru</td>\n",
       "      <td>32.73.25.1001</td>\n",
       "      <td>Cisurupan</td>\n",
       "      <td>TK/PAUD</td>\n",
       "      <td>PAUD/TKq  An Nuur</td>\n",
       "      <td>Jl. Cilengkrang RT 05 RW 01</td>\n",
       "      <td>20</td>\n",
       "      <td>4</td>\n",
       "      <td>-</td>\n",
       "      <td>-</td>\n",
       "      <td>-</td>\n",
       "      <td>-</td>\n",
       "      <td>-</td>\n",
       "    </tr>\n",
       "    <tr>\n",
       "      <th>115</th>\n",
       "      <td>32.73.25</td>\n",
       "      <td>Cibiru</td>\n",
       "      <td>32.73.25.1001</td>\n",
       "      <td>Cisurupan</td>\n",
       "      <td>TK/PAUD</td>\n",
       "      <td>PAUD Dahlia</td>\n",
       "      <td>Komplek Tirtawening RT 01 RW 02</td>\n",
       "      <td>24</td>\n",
       "      <td>4</td>\n",
       "      <td>-</td>\n",
       "      <td>-</td>\n",
       "      <td>-</td>\n",
       "      <td>-</td>\n",
       "      <td>-</td>\n",
       "    </tr>\n",
       "    <tr>\n",
       "      <th>116</th>\n",
       "      <td>32.73.25</td>\n",
       "      <td>Cibiru</td>\n",
       "      <td>32.73.25.1001</td>\n",
       "      <td>Cisurupan</td>\n",
       "      <td>TK/PAUD</td>\n",
       "      <td>TK/RA  Nurul Ikhlas</td>\n",
       "      <td>Cisurupan RT 03 RW 04</td>\n",
       "      <td>86</td>\n",
       "      <td>10</td>\n",
       "      <td>-</td>\n",
       "      <td>-</td>\n",
       "      <td>-</td>\n",
       "      <td>-</td>\n",
       "      <td>-</td>\n",
       "    </tr>\n",
       "    <tr>\n",
       "      <th>117</th>\n",
       "      <td>32.73.25</td>\n",
       "      <td>Cibiru</td>\n",
       "      <td>32.73.25.1001</td>\n",
       "      <td>Cisurupan</td>\n",
       "      <td>TK/PAUD</td>\n",
       "      <td>TK  Bakti Suci</td>\n",
       "      <td>Cisurupan RT 05  RW 04</td>\n",
       "      <td>40</td>\n",
       "      <td>6</td>\n",
       "      <td>-</td>\n",
       "      <td>-</td>\n",
       "      <td>-</td>\n",
       "      <td>-</td>\n",
       "      <td>-</td>\n",
       "    </tr>\n",
       "    <tr>\n",
       "      <th>118</th>\n",
       "      <td>32.73.25</td>\n",
       "      <td>Cibiru</td>\n",
       "      <td>32.73.25.1001</td>\n",
       "      <td>Cisurupan</td>\n",
       "      <td>TK/PAUD</td>\n",
       "      <td>TK PAUD Anggrek Ceria</td>\n",
       "      <td>Jl. Cilengkrang I RT. 03 RW 05</td>\n",
       "      <td>48</td>\n",
       "      <td>8</td>\n",
       "      <td>-</td>\n",
       "      <td>-</td>\n",
       "      <td>-</td>\n",
       "      <td>-</td>\n",
       "      <td>-</td>\n",
       "    </tr>\n",
       "    <tr>\n",
       "      <th>119</th>\n",
       "      <td>32.73.25</td>\n",
       "      <td>Cibiru</td>\n",
       "      <td>32.73.25.1001</td>\n",
       "      <td>Cisurupan</td>\n",
       "      <td>TK/PAUD</td>\n",
       "      <td>TK Al Islam</td>\n",
       "      <td>Cigagak RT 04 RW 06</td>\n",
       "      <td>32</td>\n",
       "      <td>7</td>\n",
       "      <td>-</td>\n",
       "      <td>-</td>\n",
       "      <td>-</td>\n",
       "      <td>-</td>\n",
       "      <td>-</td>\n",
       "    </tr>\n",
       "    <tr>\n",
       "      <th>120</th>\n",
       "      <td>32.73.25</td>\n",
       "      <td>Cibiru</td>\n",
       "      <td>32.73.25.1001</td>\n",
       "      <td>Cisurupan</td>\n",
       "      <td>TK/PAUD</td>\n",
       "      <td>TK/PAUD Sabilillah</td>\n",
       "      <td>Cigagak RT 02 RW 07</td>\n",
       "      <td>49</td>\n",
       "      <td>5</td>\n",
       "      <td>-</td>\n",
       "      <td>-</td>\n",
       "      <td>-</td>\n",
       "      <td>-</td>\n",
       "      <td>-</td>\n",
       "    </tr>\n",
       "    <tr>\n",
       "      <th>121</th>\n",
       "      <td>32.73.25</td>\n",
       "      <td>Cibiru</td>\n",
       "      <td>32.73.25.1001</td>\n",
       "      <td>Cisurupan</td>\n",
       "      <td>TK/PAUD</td>\n",
       "      <td>TK PAUD  Daarut Taqwa</td>\n",
       "      <td>Caringin RT 02 RW 08</td>\n",
       "      <td>17</td>\n",
       "      <td>4</td>\n",
       "      <td>-</td>\n",
       "      <td>-</td>\n",
       "      <td>-</td>\n",
       "      <td>-</td>\n",
       "      <td>-</td>\n",
       "    </tr>\n",
       "    <tr>\n",
       "      <th>122</th>\n",
       "      <td>32.73.25</td>\n",
       "      <td>cibiru</td>\n",
       "      <td>32.73.25.1001</td>\n",
       "      <td>Cisurupan</td>\n",
       "      <td>TK/PAUD</td>\n",
       "      <td>TK/ PAUD Al  Ikhlas</td>\n",
       "      <td>Komplek Puskopad RT 05 RW 08</td>\n",
       "      <td>52</td>\n",
       "      <td>7</td>\n",
       "      <td>-</td>\n",
       "      <td>-</td>\n",
       "      <td>-</td>\n",
       "      <td>-</td>\n",
       "      <td>-</td>\n",
       "    </tr>\n",
       "    <tr>\n",
       "      <th>123</th>\n",
       "      <td>32.73.25</td>\n",
       "      <td>Cibiru</td>\n",
       "      <td>32.73.25.1001</td>\n",
       "      <td>Cisurupan</td>\n",
       "      <td>TK/PAUD</td>\n",
       "      <td>TK/PAUD Al Iklas</td>\n",
       "      <td>Cipulus RT 02 RW 10</td>\n",
       "      <td>27</td>\n",
       "      <td>4</td>\n",
       "      <td>-</td>\n",
       "      <td>-</td>\n",
       "      <td>-</td>\n",
       "      <td>-</td>\n",
       "      <td>-</td>\n",
       "    </tr>\n",
       "    <tr>\n",
       "      <th>124</th>\n",
       "      <td>32.73.25</td>\n",
       "      <td>Cibiru</td>\n",
       "      <td>32.73.25.1001</td>\n",
       "      <td>Cisurupan</td>\n",
       "      <td>TK/PAUD</td>\n",
       "      <td>PAUD/TKq Darul Ihsan</td>\n",
       "      <td>Jl. Pasanggrahan RT 05 RW 05</td>\n",
       "      <td>32</td>\n",
       "      <td>4</td>\n",
       "      <td>-</td>\n",
       "      <td>-</td>\n",
       "      <td>-</td>\n",
       "      <td>-</td>\n",
       "      <td>-</td>\n",
       "    </tr>\n",
       "    <tr>\n",
       "      <th>125</th>\n",
       "      <td>32.73.25</td>\n",
       "      <td>Cibiru</td>\n",
       "      <td>32.73.25.1001</td>\n",
       "      <td>Cisurupan</td>\n",
       "      <td>SD</td>\n",
       "      <td>SDN Cilengkrang</td>\n",
       "      <td>Jl. Cilengkrang 1 RT 03 RW 05</td>\n",
       "      <td>725</td>\n",
       "      <td>26</td>\n",
       "      <td>-</td>\n",
       "      <td>-</td>\n",
       "      <td>-</td>\n",
       "      <td>-</td>\n",
       "      <td>-</td>\n",
       "    </tr>\n",
       "    <tr>\n",
       "      <th>126</th>\n",
       "      <td>32.73.25</td>\n",
       "      <td>cibiru</td>\n",
       "      <td>32.73.25.1001</td>\n",
       "      <td>Cisurupan</td>\n",
       "      <td>SD</td>\n",
       "      <td>SDN Cigagak</td>\n",
       "      <td>Jl. Cigagak RT 02 RW 07</td>\n",
       "      <td>246</td>\n",
       "      <td>12</td>\n",
       "      <td>-</td>\n",
       "      <td>-</td>\n",
       "      <td>-</td>\n",
       "      <td>-</td>\n",
       "      <td>-</td>\n",
       "    </tr>\n",
       "    <tr>\n",
       "      <th>127</th>\n",
       "      <td>32.73.25</td>\n",
       "      <td>Cibiru</td>\n",
       "      <td>32.73.25.1001</td>\n",
       "      <td>Cisurupan</td>\n",
       "      <td>SD</td>\n",
       "      <td>SDN Hanura</td>\n",
       "      <td>Jl. Ciwaru RT 01 RW 09</td>\n",
       "      <td>258</td>\n",
       "      <td>13</td>\n",
       "      <td>-</td>\n",
       "      <td>-</td>\n",
       "      <td>-</td>\n",
       "      <td>-</td>\n",
       "      <td>-</td>\n",
       "    </tr>\n",
       "    <tr>\n",
       "      <th>128</th>\n",
       "      <td>32.73.25</td>\n",
       "      <td>Cibiru</td>\n",
       "      <td>32.73.25.1001</td>\n",
       "      <td>Cisurupan</td>\n",
       "      <td>SD</td>\n",
       "      <td>SD Intan Sali Iskandar</td>\n",
       "      <td>Jl. Pasanggrahan RT 05 RW 05</td>\n",
       "      <td>27</td>\n",
       "      <td>9</td>\n",
       "      <td>-</td>\n",
       "      <td>-</td>\n",
       "      <td>-</td>\n",
       "      <td>-</td>\n",
       "      <td>-</td>\n",
       "    </tr>\n",
       "    <tr>\n",
       "      <th>129</th>\n",
       "      <td>32.73.25</td>\n",
       "      <td>Cibiru</td>\n",
       "      <td>32.73.25.1001</td>\n",
       "      <td>Cisurupan</td>\n",
       "      <td>SMP</td>\n",
       "      <td>SMP Al Ghifari</td>\n",
       "      <td>Cisurupan RT 03 RW 05</td>\n",
       "      <td>127</td>\n",
       "      <td>22</td>\n",
       "      <td>-</td>\n",
       "      <td>-</td>\n",
       "      <td>-</td>\n",
       "      <td>-</td>\n",
       "      <td>-</td>\n",
       "    </tr>\n",
       "    <tr>\n",
       "      <th>130</th>\n",
       "      <td>32.73.25</td>\n",
       "      <td>Cibiru</td>\n",
       "      <td>32.73.25.1001</td>\n",
       "      <td>Cisurupan</td>\n",
       "      <td>SMP</td>\n",
       "      <td>SMP Al Islam</td>\n",
       "      <td>Cigagak RT 04 RW 06</td>\n",
       "      <td>292</td>\n",
       "      <td>30</td>\n",
       "      <td>-</td>\n",
       "      <td>-</td>\n",
       "      <td>-</td>\n",
       "      <td>-</td>\n",
       "      <td>-</td>\n",
       "    </tr>\n",
       "    <tr>\n",
       "      <th>131</th>\n",
       "      <td>32.73.25</td>\n",
       "      <td>Cibiru</td>\n",
       "      <td>32.73.25.1001</td>\n",
       "      <td>Cisurupan</td>\n",
       "      <td>SMA</td>\n",
       "      <td>SMA Al Islam</td>\n",
       "      <td>Sekehonje RT 02 RW 06</td>\n",
       "      <td>280</td>\n",
       "      <td>26</td>\n",
       "      <td>-</td>\n",
       "      <td>-</td>\n",
       "      <td>-</td>\n",
       "      <td>-</td>\n",
       "      <td>-</td>\n",
       "    </tr>\n",
       "    <tr>\n",
       "      <th>132</th>\n",
       "      <td>32.73.25</td>\n",
       "      <td>Cibiru</td>\n",
       "      <td>32.73.25.1001</td>\n",
       "      <td>Cisurupan</td>\n",
       "      <td>SMA</td>\n",
       "      <td>SMK Al Ghifari</td>\n",
       "      <td>Cisurupan RT 03 RW 05</td>\n",
       "      <td>129</td>\n",
       "      <td>22</td>\n",
       "      <td>-</td>\n",
       "      <td>-</td>\n",
       "      <td>-</td>\n",
       "      <td>-</td>\n",
       "      <td>-</td>\n",
       "    </tr>\n",
       "    <tr>\n",
       "      <th>134</th>\n",
       "      <td>32.73.25</td>\n",
       "      <td>Cibiru</td>\n",
       "      <td>32.73.25.1001</td>\n",
       "      <td>Cisurupan</td>\n",
       "      <td>SMA</td>\n",
       "      <td>SMK Al Ghifari</td>\n",
       "      <td>Cisurupan RT 03 RW 05</td>\n",
       "      <td>129</td>\n",
       "      <td>22</td>\n",
       "      <td>-</td>\n",
       "      <td>-</td>\n",
       "      <td>-</td>\n",
       "      <td>-</td>\n",
       "      <td>-</td>\n",
       "    </tr>\n",
       "  </tbody>\n",
       "</table>\n",
       "</div>"
      ],
      "text/plain": [
       "    Kode Kecamatan Kecamatan Kode Kelurahan  Kelurahan Jenjang Sekolah  \\\n",
       "113       32.73.25    Cibiru  32.73.25.1001  Cisurupan         TK/PAUD   \n",
       "114       32.73.25    Cibiru  32.73.25.1001  Cisurupan         TK/PAUD   \n",
       "115       32.73.25    Cibiru  32.73.25.1001  Cisurupan         TK/PAUD   \n",
       "116       32.73.25    Cibiru  32.73.25.1001  Cisurupan         TK/PAUD   \n",
       "117       32.73.25    Cibiru  32.73.25.1001  Cisurupan         TK/PAUD   \n",
       "118       32.73.25    Cibiru  32.73.25.1001  Cisurupan         TK/PAUD   \n",
       "119       32.73.25    Cibiru  32.73.25.1001  Cisurupan         TK/PAUD   \n",
       "120       32.73.25    Cibiru  32.73.25.1001  Cisurupan         TK/PAUD   \n",
       "121       32.73.25    Cibiru  32.73.25.1001  Cisurupan         TK/PAUD   \n",
       "122       32.73.25    cibiru  32.73.25.1001  Cisurupan         TK/PAUD   \n",
       "123       32.73.25    Cibiru  32.73.25.1001  Cisurupan         TK/PAUD   \n",
       "124       32.73.25    Cibiru  32.73.25.1001  Cisurupan         TK/PAUD   \n",
       "125       32.73.25    Cibiru  32.73.25.1001  Cisurupan              SD   \n",
       "126       32.73.25    cibiru  32.73.25.1001  Cisurupan              SD   \n",
       "127       32.73.25    Cibiru  32.73.25.1001  Cisurupan              SD   \n",
       "128       32.73.25    Cibiru  32.73.25.1001  Cisurupan              SD   \n",
       "129       32.73.25    Cibiru  32.73.25.1001  Cisurupan             SMP   \n",
       "130       32.73.25    Cibiru  32.73.25.1001  Cisurupan             SMP   \n",
       "131       32.73.25    Cibiru  32.73.25.1001  Cisurupan             SMA   \n",
       "132       32.73.25    Cibiru  32.73.25.1001  Cisurupan             SMA   \n",
       "134       32.73.25    Cibiru  32.73.25.1001  Cisurupan             SMA   \n",
       "\n",
       "               Nama Sekolah                   Alamat Sekolah  Jumlah Murid  \\\n",
       "113          TK/RA  Al Alif      Jl. Cilengkrang RT 01 RW 01            32   \n",
       "114       PAUD/TKq  An Nuur      Jl. Cilengkrang RT 05 RW 01            20   \n",
       "115             PAUD Dahlia  Komplek Tirtawening RT 01 RW 02            24   \n",
       "116     TK/RA  Nurul Ikhlas            Cisurupan RT 03 RW 04            86   \n",
       "117          TK  Bakti Suci           Cisurupan RT 05  RW 04            40   \n",
       "118   TK PAUD Anggrek Ceria   Jl. Cilengkrang I RT. 03 RW 05            48   \n",
       "119             TK Al Islam              Cigagak RT 04 RW 06            32   \n",
       "120      TK/PAUD Sabilillah              Cigagak RT 02 RW 07            49   \n",
       "121   TK PAUD  Daarut Taqwa             Caringin RT 02 RW 08            17   \n",
       "122    TK/ PAUD Al  Ikhlas      Komplek Puskopad RT 05 RW 08            52   \n",
       "123        TK/PAUD Al Iklas              Cipulus RT 02 RW 10            27   \n",
       "124    PAUD/TKq Darul Ihsan     Jl. Pasanggrahan RT 05 RW 05            32   \n",
       "125        SDN Cilengkrang     Jl. Cilengkrang 1 RT 03 RW 05           725   \n",
       "126             SDN Cigagak          Jl. Cigagak RT 02 RW 07           246   \n",
       "127              SDN Hanura           Jl. Ciwaru RT 01 RW 09           258   \n",
       "128  SD Intan Sali Iskandar     Jl. Pasanggrahan RT 05 RW 05            27   \n",
       "129          SMP Al Ghifari            Cisurupan RT 03 RW 05           127   \n",
       "130            SMP Al Islam              Cigagak RT 04 RW 06           292   \n",
       "131            SMA Al Islam            Sekehonje RT 02 RW 06           280   \n",
       "132          SMK Al Ghifari            Cisurupan RT 03 RW 05           129   \n",
       "134          SMK Al Ghifari            Cisurupan RT 03 RW 05           129   \n",
       "\n",
       "     Jumlah Guru Ruang Kelas Laboratorium Fasilitas Olahraga Toilet  \\\n",
       "113            6           -            -                  -      -   \n",
       "114            4           -            -                  -      -   \n",
       "115            4           -            -                  -      -   \n",
       "116           10           -            -                  -      -   \n",
       "117            6           -            -                  -      -   \n",
       "118            8           -            -                  -      -   \n",
       "119            7           -            -                  -      -   \n",
       "120            5           -            -                  -      -   \n",
       "121            4           -            -                  -      -   \n",
       "122            7           -            -                  -      -   \n",
       "123            4           -            -                  -      -   \n",
       "124            4           -            -                  -      -   \n",
       "125           26           -            -                  -      -   \n",
       "126           12           -            -                  -      -   \n",
       "127           13           -            -                  -      -   \n",
       "128            9           -            -                  -      -   \n",
       "129           22           -            -                  -      -   \n",
       "130           30           -            -                  -      -   \n",
       "131           26           -            -                  -      -   \n",
       "132           22           -            -                  -      -   \n",
       "134           22           -            -                  -      -   \n",
       "\n",
       "    Perpustakaan  \n",
       "113            -  \n",
       "114            -  \n",
       "115            -  \n",
       "116            -  \n",
       "117            -  \n",
       "118            -  \n",
       "119            -  \n",
       "120            -  \n",
       "121            -  \n",
       "122            -  \n",
       "123            -  \n",
       "124            -  \n",
       "125            -  \n",
       "126            -  \n",
       "127            -  \n",
       "128            -  \n",
       "129            -  \n",
       "130            -  \n",
       "131            -  \n",
       "132            -  \n",
       "134            -  "
      ]
     },
     "execution_count": 40,
     "metadata": {},
     "output_type": "execute_result"
    }
   ],
   "source": [
    "merged_df[merged_df['Ruang Kelas'] == ' -']"
   ]
  },
  {
   "cell_type": "code",
   "execution_count": 41,
   "metadata": {},
   "outputs": [],
   "source": [
    "merged_df['Ruang Kelas'] = merged_df['Ruang Kelas'].str.replace(' -','0')"
   ]
  },
  {
   "cell_type": "code",
   "execution_count": 42,
   "metadata": {},
   "outputs": [],
   "source": [
    "merged_df['Ruang Kelas'] = merged_df['Ruang Kelas'].fillna(0)"
   ]
  },
  {
   "cell_type": "code",
   "execution_count": 43,
   "metadata": {},
   "outputs": [
    {
     "data": {
      "text/plain": [
       "0       0\n",
       "1       0\n",
       "2       0\n",
       "3       0\n",
       "4       0\n",
       "5       0\n",
       "6       0\n",
       "7       0\n",
       "8       0\n",
       "9       0\n",
       "10      0\n",
       "11      0\n",
       "12      0\n",
       "13      0\n",
       "14      0\n",
       "15      0\n",
       "16      0\n",
       "17      0\n",
       "18      0\n",
       "19      0\n",
       "20      0\n",
       "21      0\n",
       "22      0\n",
       "23      0\n",
       "24      0\n",
       "25      0\n",
       "26      0\n",
       "27      0\n",
       "28      0\n",
       "29      0\n",
       "30      0\n",
       "31      0\n",
       "32      0\n",
       "33      0\n",
       "34      0\n",
       "35      0\n",
       "36      0\n",
       "37      0\n",
       "38      0\n",
       "39      0\n",
       "40      0\n",
       "41      0\n",
       "42      0\n",
       "43      0\n",
       "44      0\n",
       "45      0\n",
       "46      0\n",
       "47      0\n",
       "48      0\n",
       "49      0\n",
       "50      0\n",
       "51      0\n",
       "52      0\n",
       "53      0\n",
       "54      0\n",
       "55      0\n",
       "56      0\n",
       "57      0\n",
       "58      0\n",
       "59      0\n",
       "60      0\n",
       "61      0\n",
       "62      0\n",
       "63      0\n",
       "64      0\n",
       "65      0\n",
       "66      0\n",
       "67      0\n",
       "68      0\n",
       "69      0\n",
       "70      0\n",
       "71      0\n",
       "72      0\n",
       "73      0\n",
       "74      0\n",
       "75      0\n",
       "76      0\n",
       "77      0\n",
       "78      0\n",
       "79      0\n",
       "80      0\n",
       "81      0\n",
       "82      0\n",
       "83      0\n",
       "84      0\n",
       "85      0\n",
       "86      0\n",
       "87      0\n",
       "88      0\n",
       "89      0\n",
       "90      0\n",
       "91      0\n",
       "92      0\n",
       "93      2\n",
       "94      2\n",
       "95      2\n",
       "96      2\n",
       "97      2\n",
       "98      1\n",
       "99      1\n",
       "100     2\n",
       "101     1\n",
       "102     3\n",
       "103     6\n",
       "104    19\n",
       "105    15\n",
       "106     7\n",
       "107     1\n",
       "108    14\n",
       "109     5\n",
       "110    12\n",
       "111     9\n",
       "112    36\n",
       "113     0\n",
       "114     0\n",
       "115     0\n",
       "116     0\n",
       "117     0\n",
       "118     0\n",
       "119     0\n",
       "120     0\n",
       "121     0\n",
       "122     0\n",
       "123     0\n",
       "124     0\n",
       "125     0\n",
       "126     0\n",
       "127     0\n",
       "128     0\n",
       "129     0\n",
       "130     0\n",
       "131     0\n",
       "132     0\n",
       "133    10\n",
       "134     0\n",
       "135    10\n",
       "Name: Ruang Kelas, dtype: object"
      ]
     },
     "execution_count": 43,
     "metadata": {},
     "output_type": "execute_result"
    }
   ],
   "source": [
    "merged_df['Ruang Kelas']"
   ]
  },
  {
   "cell_type": "markdown",
   "metadata": {},
   "source": []
  },
  {
   "cell_type": "code",
   "execution_count": 45,
   "metadata": {},
   "outputs": [
    {
     "data": {
      "text/plain": [
       "162"
      ]
     },
     "execution_count": 45,
     "metadata": {},
     "output_type": "execute_result"
    }
   ],
   "source": [
    "merged_df['Ruang Kelas'].astype('int').sum()"
   ]
  },
  {
   "cell_type": "code",
   "execution_count": 8,
   "metadata": {},
   "outputs": [
    {
     "data": {
      "text/plain": [
       "2"
      ]
     },
     "execution_count": 8,
     "metadata": {},
     "output_type": "execute_result"
    }
   ],
   "source": [
    "# cek duplikat \n",
    "merged_df.duplicated().sum()"
   ]
  },
  {
   "cell_type": "code",
   "execution_count": 48,
   "metadata": {},
   "outputs": [],
   "source": [
    "merged_df = merged_df.drop_duplicates()"
   ]
  },
  {
   "cell_type": "code",
   "execution_count": 49,
   "metadata": {},
   "outputs": [
    {
     "data": {
      "text/plain": [
       "152"
      ]
     },
     "execution_count": 49,
     "metadata": {},
     "output_type": "execute_result"
    }
   ],
   "source": [
    "merged_df['Ruang Kelas'].astype('int').sum()"
   ]
  },
  {
   "cell_type": "code",
   "execution_count": 53,
   "metadata": {},
   "outputs": [
    {
     "data": {
      "text/plain": [
       "Kode Kecamatan        2\n",
       "Kecamatan             2\n",
       "Kode Kelurahan        2\n",
       "Kelurahan             2\n",
       "Jenjang Sekolah       2\n",
       "Nama Sekolah          2\n",
       "Alamat Sekolah        2\n",
       "Jumlah Murid          2\n",
       "Jumlah Guru           2\n",
       "Ruang Kelas           2\n",
       "Laboratorium          2\n",
       "Fasilitas Olahraga    2\n",
       "Toilet                2\n",
       "Perpustakaan          2\n",
       "dtype: int64"
      ]
     },
     "execution_count": 53,
     "metadata": {},
     "output_type": "execute_result"
    }
   ],
   "source": [
    "merged_df[merged_df['Kecamatan'] == 'cibiru'].count()"
   ]
  },
  {
   "cell_type": "code",
   "execution_count": 52,
   "metadata": {},
   "outputs": [
    {
     "data": {
      "text/plain": [
       "Sukajadi     88\n",
       "Cibiru       39\n",
       "sukajadi      3\n",
       " Sukajadi     2\n",
       "cibiru        2\n",
       "Name: Kecamatan, dtype: int64"
      ]
     },
     "execution_count": 52,
     "metadata": {},
     "output_type": "execute_result"
    }
   ],
   "source": [
    "merged_df.Kecamatan.value_counts()"
   ]
  },
  {
   "cell_type": "code",
   "execution_count": 55,
   "metadata": {},
   "outputs": [
    {
     "data": {
      "text/plain": [
       "Sukajadi    90\n",
       "Cibiru      39\n",
       "sukajadi     3\n",
       "cibiru       2\n",
       "Name: Kecamatan, dtype: int64"
      ]
     },
     "execution_count": 55,
     "metadata": {},
     "output_type": "execute_result"
    }
   ],
   "source": [
    "merged_df.Kecamatan = merged_df.Kecamatan.str.strip()\n",
    "merged_df.Kecamatan.value_counts()"
   ]
  },
  {
   "cell_type": "markdown",
   "metadata": {},
   "source": [
    "## Descriptive Analytics menggunakan Viz"
   ]
  },
  {
   "cell_type": "code",
   "execution_count": 56,
   "metadata": {},
   "outputs": [
    {
     "data": {
      "text/html": [
       "<div>\n",
       "<style scoped>\n",
       "    .dataframe tbody tr th:only-of-type {\n",
       "        vertical-align: middle;\n",
       "    }\n",
       "\n",
       "    .dataframe tbody tr th {\n",
       "        vertical-align: top;\n",
       "    }\n",
       "\n",
       "    .dataframe thead th {\n",
       "        text-align: right;\n",
       "    }\n",
       "</style>\n",
       "<table border=\"1\" class=\"dataframe\">\n",
       "  <thead>\n",
       "    <tr style=\"text-align: right;\">\n",
       "      <th></th>\n",
       "      <th>Date</th>\n",
       "      <th>Day</th>\n",
       "      <th>Month</th>\n",
       "      <th>Year</th>\n",
       "      <th>Customer_Age</th>\n",
       "      <th>Age_Group</th>\n",
       "      <th>Customer_Gender</th>\n",
       "      <th>Country</th>\n",
       "      <th>State</th>\n",
       "      <th>Product_Category</th>\n",
       "      <th>Sub_Category</th>\n",
       "      <th>Product</th>\n",
       "      <th>Order_Quantity</th>\n",
       "      <th>Unit_Cost</th>\n",
       "      <th>Unit_Price</th>\n",
       "      <th>Profit</th>\n",
       "      <th>Cost</th>\n",
       "      <th>Revenue</th>\n",
       "    </tr>\n",
       "  </thead>\n",
       "  <tbody>\n",
       "    <tr>\n",
       "      <th>0</th>\n",
       "      <td>2021-01-31</td>\n",
       "      <td>31</td>\n",
       "      <td>January</td>\n",
       "      <td>2021</td>\n",
       "      <td>39</td>\n",
       "      <td>Adults (35-64)</td>\n",
       "      <td>M</td>\n",
       "      <td>United States</td>\n",
       "      <td>Washington</td>\n",
       "      <td>Bikes</td>\n",
       "      <td>Road Bikes</td>\n",
       "      <td>Road-550-W Yellow, 38</td>\n",
       "      <td>30</td>\n",
       "      <td>713</td>\n",
       "      <td>1120</td>\n",
       "      <td>12210</td>\n",
       "      <td>21390</td>\n",
       "      <td>33600</td>\n",
       "    </tr>\n",
       "    <tr>\n",
       "      <th>1</th>\n",
       "      <td>2021-02-28</td>\n",
       "      <td>28</td>\n",
       "      <td>February</td>\n",
       "      <td>2021</td>\n",
       "      <td>33</td>\n",
       "      <td>Young Adults (25-34)</td>\n",
       "      <td>F</td>\n",
       "      <td>France</td>\n",
       "      <td>Yveline</td>\n",
       "      <td>Bikes</td>\n",
       "      <td>Road Bikes</td>\n",
       "      <td>Road-150 Red, 48</td>\n",
       "      <td>20</td>\n",
       "      <td>2171</td>\n",
       "      <td>3578</td>\n",
       "      <td>28140</td>\n",
       "      <td>43420</td>\n",
       "      <td>71560</td>\n",
       "    </tr>\n",
       "    <tr>\n",
       "      <th>2</th>\n",
       "      <td>2021-03-31</td>\n",
       "      <td>31</td>\n",
       "      <td>March</td>\n",
       "      <td>2021</td>\n",
       "      <td>17</td>\n",
       "      <td>Youth (&lt;25)</td>\n",
       "      <td>M</td>\n",
       "      <td>Canada</td>\n",
       "      <td>British Columbia</td>\n",
       "      <td>Bikes</td>\n",
       "      <td>Road Bikes</td>\n",
       "      <td>Road-250 Red, 44</td>\n",
       "      <td>10</td>\n",
       "      <td>1519</td>\n",
       "      <td>2443</td>\n",
       "      <td>9240</td>\n",
       "      <td>15190</td>\n",
       "      <td>24430</td>\n",
       "    </tr>\n",
       "    <tr>\n",
       "      <th>3</th>\n",
       "      <td>2021-04-30</td>\n",
       "      <td>30</td>\n",
       "      <td>April</td>\n",
       "      <td>2021</td>\n",
       "      <td>23</td>\n",
       "      <td>Youth (&lt;25)</td>\n",
       "      <td>M</td>\n",
       "      <td>Australia</td>\n",
       "      <td>Victoria</td>\n",
       "      <td>Bikes</td>\n",
       "      <td>Mountain Bikes</td>\n",
       "      <td>Mountain-200 Black, 46</td>\n",
       "      <td>10</td>\n",
       "      <td>1252</td>\n",
       "      <td>2295</td>\n",
       "      <td>10430</td>\n",
       "      <td>12520</td>\n",
       "      <td>22950</td>\n",
       "    </tr>\n",
       "    <tr>\n",
       "      <th>4</th>\n",
       "      <td>2021-05-31</td>\n",
       "      <td>31</td>\n",
       "      <td>May</td>\n",
       "      <td>2021</td>\n",
       "      <td>42</td>\n",
       "      <td>Adults (35-64)</td>\n",
       "      <td>M</td>\n",
       "      <td>United States</td>\n",
       "      <td>California</td>\n",
       "      <td>Bikes</td>\n",
       "      <td>Road Bikes</td>\n",
       "      <td>Road-750 Black, 44</td>\n",
       "      <td>11</td>\n",
       "      <td>344</td>\n",
       "      <td>540</td>\n",
       "      <td>2156</td>\n",
       "      <td>3784</td>\n",
       "      <td>5940</td>\n",
       "    </tr>\n",
       "  </tbody>\n",
       "</table>\n",
       "</div>"
      ],
      "text/plain": [
       "        Date  Day     Month  Year  Customer_Age             Age_Group  \\\n",
       "0 2021-01-31   31   January  2021            39        Adults (35-64)   \n",
       "1 2021-02-28   28  February  2021            33  Young Adults (25-34)   \n",
       "2 2021-03-31   31     March  2021            17           Youth (<25)   \n",
       "3 2021-04-30   30     April  2021            23           Youth (<25)   \n",
       "4 2021-05-31   31       May  2021            42        Adults (35-64)   \n",
       "\n",
       "  Customer_Gender        Country             State Product_Category  \\\n",
       "0               M  United States        Washington            Bikes   \n",
       "1               F         France           Yveline            Bikes   \n",
       "2               M         Canada  British Columbia            Bikes   \n",
       "3               M      Australia          Victoria            Bikes   \n",
       "4               M  United States        California            Bikes   \n",
       "\n",
       "     Sub_Category                 Product  Order_Quantity  Unit_Cost  \\\n",
       "0      Road Bikes   Road-550-W Yellow, 38              30        713   \n",
       "1      Road Bikes        Road-150 Red, 48              20       2171   \n",
       "2      Road Bikes        Road-250 Red, 44              10       1519   \n",
       "3  Mountain Bikes  Mountain-200 Black, 46              10       1252   \n",
       "4      Road Bikes      Road-750 Black, 44              11        344   \n",
       "\n",
       "   Unit_Price  Profit   Cost  Revenue  \n",
       "0        1120   12210  21390    33600  \n",
       "1        3578   28140  43420    71560  \n",
       "2        2443    9240  15190    24430  \n",
       "3        2295   10430  12520    22950  \n",
       "4         540    2156   3784     5940  "
      ]
     },
     "execution_count": 56,
     "metadata": {},
     "output_type": "execute_result"
    }
   ],
   "source": [
    "df = pd.read_excel('bikes/Bike_Sales_2021.xlsx')\n",
    "df.head()"
   ]
  },
  {
   "cell_type": "code",
   "execution_count": 57,
   "metadata": {},
   "outputs": [],
   "source": [
    "import seaborn as sns"
   ]
  },
  {
   "cell_type": "code",
   "execution_count": 58,
   "metadata": {},
   "outputs": [],
   "source": [
    "# 1. distribution plot \n",
    "# 2. categorical plot \n",
    "# 3. matrix "
   ]
  },
  {
   "cell_type": "markdown",
   "metadata": {},
   "source": [
    "### 1. Distribution Plot"
   ]
  },
  {
   "cell_type": "code",
   "execution_count": 59,
   "metadata": {},
   "outputs": [
    {
     "data": {
      "text/html": [
       "<div>\n",
       "<style scoped>\n",
       "    .dataframe tbody tr th:only-of-type {\n",
       "        vertical-align: middle;\n",
       "    }\n",
       "\n",
       "    .dataframe tbody tr th {\n",
       "        vertical-align: top;\n",
       "    }\n",
       "\n",
       "    .dataframe thead th {\n",
       "        text-align: right;\n",
       "    }\n",
       "</style>\n",
       "<table border=\"1\" class=\"dataframe\">\n",
       "  <thead>\n",
       "    <tr style=\"text-align: right;\">\n",
       "      <th></th>\n",
       "      <th>Date</th>\n",
       "      <th>Day</th>\n",
       "      <th>Month</th>\n",
       "      <th>Year</th>\n",
       "      <th>Customer_Age</th>\n",
       "      <th>Age_Group</th>\n",
       "      <th>Customer_Gender</th>\n",
       "      <th>Country</th>\n",
       "      <th>State</th>\n",
       "      <th>Product_Category</th>\n",
       "      <th>Sub_Category</th>\n",
       "      <th>Product</th>\n",
       "      <th>Order_Quantity</th>\n",
       "      <th>Unit_Cost</th>\n",
       "      <th>Unit_Price</th>\n",
       "      <th>Profit</th>\n",
       "      <th>Cost</th>\n",
       "      <th>Revenue</th>\n",
       "    </tr>\n",
       "  </thead>\n",
       "  <tbody>\n",
       "    <tr>\n",
       "      <th>0</th>\n",
       "      <td>2021-01-31</td>\n",
       "      <td>31</td>\n",
       "      <td>January</td>\n",
       "      <td>2021</td>\n",
       "      <td>39</td>\n",
       "      <td>Adults (35-64)</td>\n",
       "      <td>M</td>\n",
       "      <td>United States</td>\n",
       "      <td>Washington</td>\n",
       "      <td>Bikes</td>\n",
       "      <td>Road Bikes</td>\n",
       "      <td>Road-550-W Yellow, 38</td>\n",
       "      <td>30</td>\n",
       "      <td>713</td>\n",
       "      <td>1120</td>\n",
       "      <td>12210</td>\n",
       "      <td>21390</td>\n",
       "      <td>33600</td>\n",
       "    </tr>\n",
       "    <tr>\n",
       "      <th>1</th>\n",
       "      <td>2021-02-28</td>\n",
       "      <td>28</td>\n",
       "      <td>February</td>\n",
       "      <td>2021</td>\n",
       "      <td>33</td>\n",
       "      <td>Young Adults (25-34)</td>\n",
       "      <td>F</td>\n",
       "      <td>France</td>\n",
       "      <td>Yveline</td>\n",
       "      <td>Bikes</td>\n",
       "      <td>Road Bikes</td>\n",
       "      <td>Road-150 Red, 48</td>\n",
       "      <td>20</td>\n",
       "      <td>2171</td>\n",
       "      <td>3578</td>\n",
       "      <td>28140</td>\n",
       "      <td>43420</td>\n",
       "      <td>71560</td>\n",
       "    </tr>\n",
       "    <tr>\n",
       "      <th>2</th>\n",
       "      <td>2021-03-31</td>\n",
       "      <td>31</td>\n",
       "      <td>March</td>\n",
       "      <td>2021</td>\n",
       "      <td>17</td>\n",
       "      <td>Youth (&lt;25)</td>\n",
       "      <td>M</td>\n",
       "      <td>Canada</td>\n",
       "      <td>British Columbia</td>\n",
       "      <td>Bikes</td>\n",
       "      <td>Road Bikes</td>\n",
       "      <td>Road-250 Red, 44</td>\n",
       "      <td>10</td>\n",
       "      <td>1519</td>\n",
       "      <td>2443</td>\n",
       "      <td>9240</td>\n",
       "      <td>15190</td>\n",
       "      <td>24430</td>\n",
       "    </tr>\n",
       "    <tr>\n",
       "      <th>3</th>\n",
       "      <td>2021-04-30</td>\n",
       "      <td>30</td>\n",
       "      <td>April</td>\n",
       "      <td>2021</td>\n",
       "      <td>23</td>\n",
       "      <td>Youth (&lt;25)</td>\n",
       "      <td>M</td>\n",
       "      <td>Australia</td>\n",
       "      <td>Victoria</td>\n",
       "      <td>Bikes</td>\n",
       "      <td>Mountain Bikes</td>\n",
       "      <td>Mountain-200 Black, 46</td>\n",
       "      <td>10</td>\n",
       "      <td>1252</td>\n",
       "      <td>2295</td>\n",
       "      <td>10430</td>\n",
       "      <td>12520</td>\n",
       "      <td>22950</td>\n",
       "    </tr>\n",
       "    <tr>\n",
       "      <th>4</th>\n",
       "      <td>2021-05-31</td>\n",
       "      <td>31</td>\n",
       "      <td>May</td>\n",
       "      <td>2021</td>\n",
       "      <td>42</td>\n",
       "      <td>Adults (35-64)</td>\n",
       "      <td>M</td>\n",
       "      <td>United States</td>\n",
       "      <td>California</td>\n",
       "      <td>Bikes</td>\n",
       "      <td>Road Bikes</td>\n",
       "      <td>Road-750 Black, 44</td>\n",
       "      <td>11</td>\n",
       "      <td>344</td>\n",
       "      <td>540</td>\n",
       "      <td>2156</td>\n",
       "      <td>3784</td>\n",
       "      <td>5940</td>\n",
       "    </tr>\n",
       "  </tbody>\n",
       "</table>\n",
       "</div>"
      ],
      "text/plain": [
       "        Date  Day     Month  Year  Customer_Age             Age_Group  \\\n",
       "0 2021-01-31   31   January  2021            39        Adults (35-64)   \n",
       "1 2021-02-28   28  February  2021            33  Young Adults (25-34)   \n",
       "2 2021-03-31   31     March  2021            17           Youth (<25)   \n",
       "3 2021-04-30   30     April  2021            23           Youth (<25)   \n",
       "4 2021-05-31   31       May  2021            42        Adults (35-64)   \n",
       "\n",
       "  Customer_Gender        Country             State Product_Category  \\\n",
       "0               M  United States        Washington            Bikes   \n",
       "1               F         France           Yveline            Bikes   \n",
       "2               M         Canada  British Columbia            Bikes   \n",
       "3               M      Australia          Victoria            Bikes   \n",
       "4               M  United States        California            Bikes   \n",
       "\n",
       "     Sub_Category                 Product  Order_Quantity  Unit_Cost  \\\n",
       "0      Road Bikes   Road-550-W Yellow, 38              30        713   \n",
       "1      Road Bikes        Road-150 Red, 48              20       2171   \n",
       "2      Road Bikes        Road-250 Red, 44              10       1519   \n",
       "3  Mountain Bikes  Mountain-200 Black, 46              10       1252   \n",
       "4      Road Bikes      Road-750 Black, 44              11        344   \n",
       "\n",
       "   Unit_Price  Profit   Cost  Revenue  \n",
       "0        1120   12210  21390    33600  \n",
       "1        3578   28140  43420    71560  \n",
       "2        2443    9240  15190    24430  \n",
       "3        2295   10430  12520    22950  \n",
       "4         540    2156   3784     5940  "
      ]
     },
     "execution_count": 59,
     "metadata": {},
     "output_type": "execute_result"
    }
   ],
   "source": [
    "df.head()"
   ]
  },
  {
   "cell_type": "code",
   "execution_count": 60,
   "metadata": {},
   "outputs": [
    {
     "name": "stdout",
     "output_type": "stream",
     "text": [
      "<class 'pandas.core.frame.DataFrame'>\n",
      "RangeIndex: 13 entries, 0 to 12\n",
      "Data columns (total 18 columns):\n",
      " #   Column            Non-Null Count  Dtype         \n",
      "---  ------            --------------  -----         \n",
      " 0   Date              13 non-null     datetime64[ns]\n",
      " 1   Day               13 non-null     int64         \n",
      " 2   Month             13 non-null     object        \n",
      " 3   Year              13 non-null     int64         \n",
      " 4   Customer_Age      13 non-null     int64         \n",
      " 5   Age_Group         13 non-null     object        \n",
      " 6   Customer_Gender   13 non-null     object        \n",
      " 7   Country           13 non-null     object        \n",
      " 8   State             13 non-null     object        \n",
      " 9   Product_Category  13 non-null     object        \n",
      " 10  Sub_Category      13 non-null     object        \n",
      " 11  Product           13 non-null     object        \n",
      " 12  Order_Quantity    13 non-null     int64         \n",
      " 13  Unit_Cost         13 non-null     int64         \n",
      " 14  Unit_Price        13 non-null     int64         \n",
      " 15  Profit            13 non-null     int64         \n",
      " 16  Cost              13 non-null     int64         \n",
      " 17  Revenue           13 non-null     int64         \n",
      "dtypes: datetime64[ns](1), int64(9), object(8)\n",
      "memory usage: 2.0+ KB\n"
     ]
    }
   ],
   "source": [
    "df.info()"
   ]
  },
  {
   "cell_type": "code",
   "execution_count": 62,
   "metadata": {},
   "outputs": [
    {
     "data": {
      "text/plain": [
       "<matplotlib.axes._subplots.AxesSubplot at 0x1ac7fb04850>"
      ]
     },
     "execution_count": 62,
     "metadata": {},
     "output_type": "execute_result"
    },
    {
     "data": {
      "image/png": "[encoded data removed]",
      "text/plain": [
       "<Figure size 432x288 with 1 Axes>"
      ]
     },
     "metadata": {
      "needs_background": "light"
     },
     "output_type": "display_data"
    }
   ],
   "source": [
    "sns.distplot(df['Customer_Age'], bins=20)"
   ]
  },
  {
   "cell_type": "code",
   "execution_count": 66,
   "metadata": {},
   "outputs": [
    {
     "data": {
      "text/plain": [
       "<seaborn.axisgrid.JointGrid at 0x1ac7fd27550>"
      ]
     },
     "execution_count": 66,
     "metadata": {},
     "output_type": "execute_result"
    },
    {
     "data": {
      "image/png": "[encoded data removed]",
      "text/plain": [
       "<Figure size 432x432 with 3 Axes>"
      ]
     },
     "metadata": {
      "needs_background": "light"
     },
     "output_type": "display_data"
    }
   ],
   "source": [
    "sns.jointplot(x = df['Customer_Age'], y = df['Order_Quantity'], data=df)"
   ]
  },
  {
   "cell_type": "code",
   "execution_count": 68,
   "metadata": {},
   "outputs": [
    {
     "data": {
      "text/plain": [
       "<seaborn.axisgrid.JointGrid at 0x1ac00018bb0>"
      ]
     },
     "execution_count": 68,
     "metadata": {},
     "output_type": "execute_result"
    },
    {
     "data": {
      "image/png": "[encoded data removed]",
      "text/plain": [
       "<Figure size 432x432 with 3 Axes>"
      ]
     },
     "metadata": {
      "needs_background": "light"
     },
     "output_type": "display_data"
    }
   ],
   "source": [
    "sns.jointplot(x=df['Customer_Age'], y=df['Revenue'], data=df)"
   ]
  },
  {
   "cell_type": "code",
   "execution_count": 69,
   "metadata": {},
   "outputs": [
    {
     "data": {
      "text/plain": [
       "<seaborn.axisgrid.JointGrid at 0x1ac0012a9d0>"
      ]
     },
     "execution_count": 69,
     "metadata": {},
     "output_type": "execute_result"
    },
    {
     "data": {
      "image/png": "[encoded data removed]",
      "text/plain": [
       "<Figure size 432x432 with 3 Axes>"
      ]
     },
     "metadata": {
      "needs_background": "light"
     },
     "output_type": "display_data"
    }
   ],
   "source": [
    "sns.jointplot(x=df['Revenue'], y=df['Profit'], data=df)"
   ]
  },
  {
   "cell_type": "code",
   "execution_count": 70,
   "metadata": {},
   "outputs": [
    {
     "data": {
      "text/plain": [
       "<seaborn.axisgrid.JointGrid at 0x1ac011cd2e0>"
      ]
     },
     "execution_count": 70,
     "metadata": {},
     "output_type": "execute_result"
    },
    {
     "data": {
      "image/png": "[encoded data removed]",
      "text/plain": [
       "<Figure size 432x432 with 3 Axes>"
      ]
     },
     "metadata": {
      "needs_background": "light"
     },
     "output_type": "display_data"
    }
   ],
   "source": [
    "sns.jointplot(x=df['Cost'], y=df['Revenue'], data=df)"
   ]
  },
  {
   "cell_type": "code",
   "execution_count": 71,
   "metadata": {},
   "outputs": [
    {
     "data": {
      "text/plain": [
       "<seaborn.axisgrid.PairGrid at 0x1ac012cceb0>"
      ]
     },
     "execution_count": 71,
     "metadata": {},
     "output_type": "execute_result"
    },
    {
     "data": {
      "image/png": "[encoded data removed]",
      "text/plain": [
       "<Figure size 1620x1620 with 90 Axes>"
      ]
     },
     "metadata": {
      "needs_background": "light"
     },
     "output_type": "display_data"
    }
   ],
   "source": [
    "# plot semuanya \n",
    "sns.pairplot(df)"
   ]
  },
  {
   "cell_type": "code",
   "execution_count": null,
   "metadata": {},
   "outputs": [],
   "source": []
  },
  {
   "cell_type": "markdown",
   "metadata": {},
   "source": [
    "### 2. Categorical Plot"
   ]
  },
  {
   "cell_type": "markdown",
   "metadata": {},
   "source": [
    "df.info()"
   ]
  },
  {
   "cell_type": "code",
   "execution_count": 72,
   "metadata": {},
   "outputs": [
    {
     "name": "stdout",
     "output_type": "stream",
     "text": [
      "<class 'pandas.core.frame.DataFrame'>\n",
      "RangeIndex: 13 entries, 0 to 12\n",
      "Data columns (total 18 columns):\n",
      " #   Column            Non-Null Count  Dtype         \n",
      "---  ------            --------------  -----         \n",
      " 0   Date              13 non-null     datetime64[ns]\n",
      " 1   Day               13 non-null     int64         \n",
      " 2   Month             13 non-null     object        \n",
      " 3   Year              13 non-null     int64         \n",
      " 4   Customer_Age      13 non-null     int64         \n",
      " 5   Age_Group         13 non-null     object        \n",
      " 6   Customer_Gender   13 non-null     object        \n",
      " 7   Country           13 non-null     object        \n",
      " 8   State             13 non-null     object        \n",
      " 9   Product_Category  13 non-null     object        \n",
      " 10  Sub_Category      13 non-null     object        \n",
      " 11  Product           13 non-null     object        \n",
      " 12  Order_Quantity    13 non-null     int64         \n",
      " 13  Unit_Cost         13 non-null     int64         \n",
      " 14  Unit_Price        13 non-null     int64         \n",
      " 15  Profit            13 non-null     int64         \n",
      " 16  Cost              13 non-null     int64         \n",
      " 17  Revenue           13 non-null     int64         \n",
      "dtypes: datetime64[ns](1), int64(9), object(8)\n",
      "memory usage: 2.0+ KB\n"
     ]
    }
   ],
   "source": [
    "df.info()"
   ]
  },
  {
   "cell_type": "code",
   "execution_count": 73,
   "metadata": {},
   "outputs": [
    {
     "data": {
      "text/plain": [
       "United States     4\n",
       "Australia         4\n",
       "Canada            2\n",
       "United Kingdom    2\n",
       "France            1\n",
       "Name: Country, dtype: int64"
      ]
     },
     "execution_count": 73,
     "metadata": {},
     "output_type": "execute_result"
    }
   ],
   "source": [
    "df.Country.value_counts()"
   ]
  },
  {
   "cell_type": "code",
   "execution_count": 74,
   "metadata": {},
   "outputs": [
    {
     "data": {
      "text/plain": [
       "<matplotlib.axes._subplots.AxesSubplot at 0x1ac04558ca0>"
      ]
     },
     "execution_count": 74,
     "metadata": {},
     "output_type": "execute_result"
    },
    {
     "data": {
      "image/png": "[encoded data removed]",
      "text/plain": [
       "<Figure size 432x288 with 1 Axes>"
      ]
     },
     "metadata": {
      "needs_background": "light"
     },
     "output_type": "display_data"
    }
   ],
   "source": [
    "sns.barplot(x=df['Country'], y=df['Profit'], data=df)"
   ]
  },
  {
   "cell_type": "code",
   "execution_count": 78,
   "metadata": {},
   "outputs": [
    {
     "data": {
      "text/plain": [
       "<matplotlib.axes._subplots.AxesSubplot at 0x1ac0460d3d0>"
      ]
     },
     "execution_count": 78,
     "metadata": {},
     "output_type": "execute_result"
    },
    {
     "data": {
      "image/png": "[encoded data removed]",
      "text/plain": [
       "<Figure size 432x288 with 1 Axes>"
      ]
     },
     "metadata": {
      "needs_background": "light"
     },
     "output_type": "display_data"
    }
   ],
   "source": [
    "sns.boxplot(x=df['Country'], y=df['Profit'], data=df)"
   ]
  },
  {
   "cell_type": "code",
   "execution_count": 80,
   "metadata": {},
   "outputs": [
    {
     "data": {
      "text/plain": [
       "<matplotlib.axes._subplots.AxesSubplot at 0x1ac072377f0>"
      ]
     },
     "execution_count": 80,
     "metadata": {},
     "output_type": "execute_result"
    },
    {
     "data": {
      "image/png": "[encoded data removed]",
      "text/plain": [
       "<Figure size 432x288 with 1 Axes>"
      ]
     },
     "metadata": {
      "needs_background": "light"
     },
     "output_type": "display_data"
    }
   ],
   "source": [
    "sns.violinplot(x='Country', y='Profit', data=df)"
   ]
  },
  {
   "cell_type": "code",
   "execution_count": null,
   "metadata": {},
   "outputs": [],
   "source": []
  },
  {
   "cell_type": "markdown",
   "metadata": {},
   "source": [
    "### 3. Matrix"
   ]
  },
  {
   "cell_type": "code",
   "execution_count": 82,
   "metadata": {},
   "outputs": [],
   "source": [
    "df_corr = df.corr()"
   ]
  },
  {
   "cell_type": "code",
   "execution_count": 83,
   "metadata": {},
   "outputs": [
    {
     "data": {
      "text/plain": [
       "<matplotlib.axes._subplots.AxesSubplot at 0x1ac0729b8b0>"
      ]
     },
     "execution_count": 83,
     "metadata": {},
     "output_type": "execute_result"
    },
    {
     "data": {
      "image/png": "[encoded data removed]",
      "text/plain": [
       "<Figure size 432x288 with 2 Axes>"
      ]
     },
     "metadata": {
      "needs_background": "light"
     },
     "output_type": "display_data"
    }
   ],
   "source": [
    "sns.heatmap(df_corr)"
   ]
  },
  {
   "cell_type": "code",
   "execution_count": null,
   "metadata": {},
   "outputs": [],
   "source": []
  },
  {
   "cell_type": "markdown",
   "metadata": {},
   "source": [
    "## Database"
   ]
  },
  {
   "cell_type": "markdown",
   "metadata": {},
   "source": []
  },
  {
   "cell_type": "code",
   "execution_count": 84,
   "metadata": {},
   "outputs": [
    {
     "name": "stdout",
     "output_type": "stream",
     "text": [
      "Table dosen sukses dibuat\n"
     ]
    }
   ],
   "source": [
    "import mysql.connector\n",
    "\n",
    "mydb = mysql.connector.connect(\n",
    "  host=\"localhost\",\n",
    "  user=\"root\",\n",
    "  passwd=\"\",\n",
    "  database=\"dts\"\n",
    ")\n",
    "\n",
    "cursor = mydb.cursor()\n",
    "\n",
    "query = \"\"\"\n",
    "CREATE TABLE dosen\n",
    "(\n",
    "    nip INT(10),\n",
    "    nama VARCHAR(100),\n",
    "    alamat VARCHAR(100)\n",
    ")\n",
    "\"\"\"\n",
    "\n",
    "cursor.execute(query)\n",
    "\n",
    "print(\"Table dosen sukses dibuat\")"
   ]
  },
  {
   "cell_type": "code",
   "execution_count": 85,
   "metadata": {},
   "outputs": [
    {
     "name": "stdout",
     "output_type": "stream",
     "text": [
      "Data baru berhasil ditambahkan\n"
     ]
    }
   ],
   "source": [
    "cursor = mydb.cursor()\n",
    "\n",
    "query = \"INSERT INTO dosen VALUES (%s, %s, %s)\"\n",
    "value = (11111, \"faqih\", \"Jakarta\")\n",
    "\n",
    "cursor.execute(query, value)\n",
    "\n",
    "mydb.commit()\n",
    "\n",
    "print(\"Data baru berhasil ditambahkan\")"
   ]
  }
 ],
 "metadata": {
  "kernelspec": {
   "display_name": "Python 3.8.3 ('base')",
   "language": "python",
   "name": "python3"
  },
  "language_info": {
   "codemirror_mode": {
    "name": "ipython",
    "version": 3
   },
   "file_extension": ".py",
   "mimetype": "text/x-python",
   "name": "python",
   "nbconvert_exporter": "python",
   "pygments_lexer": "ipython3",
   "version": "3.8.3"
  },
  "orig_nbformat": 4,
  "vscode": {
   "interpreter": {
    "hash": "41571774ca0b15d7c3fb56567357abd7bcf6a1eec6e5877779b6e8fb1aff2699"
   }
  }
 },
 "nbformat": 4,
 "nbformat_minor": 2
}
